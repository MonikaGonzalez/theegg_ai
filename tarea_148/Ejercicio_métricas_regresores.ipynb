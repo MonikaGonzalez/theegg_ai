{
 "cells": [
  {
   "cell_type": "markdown",
   "metadata": {},
   "source": [
    "### Ejercicio métricas para regresores"
   ]
  },
  {
   "cell_type": "markdown",
   "metadata": {},
   "source": [
    "#### Siguiendo con la práctica del set de datos de los bluegills, calcula las diferentes métricas del rendimiento de los diferentes algoritmos que hemos visto para regresión y compáralas para decidir cuál es el modelo más adecuado.\n"
   ]
  },
  {
   "cell_type": "markdown",
   "metadata": {},
   "source": [
    "#### En 1981, 78 diferentes peces bluegills fueron aleatoriamente caracterizados según su longitud y edad de un lago de Minnesota. Los investigadores midieron y grabaron los datos que se adjuntan. "
   ]
  },
  {
   "cell_type": "code",
   "execution_count": 1,
   "metadata": {},
   "outputs": [],
   "source": [
    "import numpy as np\n",
    "import pandas as pd\n",
    "import matplotlib.pyplot as plt\n",
    "from sklearn.model_selection import train_test_split\n",
    "from sklearn.linear_model import LinearRegression\n",
    "from sklearn.metrics import mean_squared_error, r2_score, mean_absolute_error\n",
    "from sklearn.preprocessing import PolynomialFeatures\n",
    "from sklearn.model_selection import GridSearchCV\n"
   ]
  },
  {
   "cell_type": "markdown",
   "metadata": {},
   "source": [
    "Abrimos el archivo de datos"
   ]
  },
  {
   "cell_type": "code",
   "execution_count": 2,
   "metadata": {
    "scrolled": true
   },
   "outputs": [
    {
     "name": "stderr",
     "output_type": "stream",
     "text": [
      "C:\\ProgramData\\Anaconda3\\lib\\site-packages\\pandas\\util\\_decorators.py:311: ParserWarning: Falling back to the 'python' engine because the 'c' engine does not support regex separators (separators > 1 char and different from '\\s+' are interpreted as regex); you can avoid this warning by specifying engine='python'.\n",
      "  return func(*args, **kwargs)\n"
     ]
    }
   ],
   "source": [
    "datos = pd.read_csv(\"Datos mojarra americana .txt\", sep = \"\\s\")"
   ]
  },
  {
   "cell_type": "code",
   "execution_count": 3,
   "metadata": {},
   "outputs": [
    {
     "data": {
      "text/html": [
       "<div>\n",
       "<style scoped>\n",
       "    .dataframe tbody tr th:only-of-type {\n",
       "        vertical-align: middle;\n",
       "    }\n",
       "\n",
       "    .dataframe tbody tr th {\n",
       "        vertical-align: top;\n",
       "    }\n",
       "\n",
       "    .dataframe thead th {\n",
       "        text-align: right;\n",
       "    }\n",
       "</style>\n",
       "<table border=\"1\" class=\"dataframe\">\n",
       "  <thead>\n",
       "    <tr style=\"text-align: right;\">\n",
       "      <th></th>\n",
       "      <th>age</th>\n",
       "      <th>length</th>\n",
       "    </tr>\n",
       "  </thead>\n",
       "  <tbody>\n",
       "    <tr>\n",
       "      <th>0</th>\n",
       "      <td>1</td>\n",
       "      <td>67</td>\n",
       "    </tr>\n",
       "    <tr>\n",
       "      <th>1</th>\n",
       "      <td>1</td>\n",
       "      <td>62</td>\n",
       "    </tr>\n",
       "    <tr>\n",
       "      <th>2</th>\n",
       "      <td>2</td>\n",
       "      <td>109</td>\n",
       "    </tr>\n",
       "    <tr>\n",
       "      <th>3</th>\n",
       "      <td>2</td>\n",
       "      <td>83</td>\n",
       "    </tr>\n",
       "    <tr>\n",
       "      <th>4</th>\n",
       "      <td>2</td>\n",
       "      <td>91</td>\n",
       "    </tr>\n",
       "  </tbody>\n",
       "</table>\n",
       "</div>"
      ],
      "text/plain": [
       "   age  length\n",
       "0    1      67\n",
       "1    1      62\n",
       "2    2     109\n",
       "3    2      83\n",
       "4    2      91"
      ]
     },
     "execution_count": 3,
     "metadata": {},
     "output_type": "execute_result"
    }
   ],
   "source": [
    "datos.head()"
   ]
  },
  {
   "cell_type": "code",
   "execution_count": 4,
   "metadata": {},
   "outputs": [
    {
     "data": {
      "text/html": [
       "<div>\n",
       "<style scoped>\n",
       "    .dataframe tbody tr th:only-of-type {\n",
       "        vertical-align: middle;\n",
       "    }\n",
       "\n",
       "    .dataframe tbody tr th {\n",
       "        vertical-align: top;\n",
       "    }\n",
       "\n",
       "    .dataframe thead th {\n",
       "        text-align: right;\n",
       "    }\n",
       "</style>\n",
       "<table border=\"1\" class=\"dataframe\">\n",
       "  <thead>\n",
       "    <tr style=\"text-align: right;\">\n",
       "      <th></th>\n",
       "      <th>age</th>\n",
       "      <th>length</th>\n",
       "    </tr>\n",
       "  </thead>\n",
       "  <tbody>\n",
       "    <tr>\n",
       "      <th>count</th>\n",
       "      <td>78.000000</td>\n",
       "      <td>78.000000</td>\n",
       "    </tr>\n",
       "    <tr>\n",
       "      <th>mean</th>\n",
       "      <td>3.628205</td>\n",
       "      <td>143.602564</td>\n",
       "    </tr>\n",
       "    <tr>\n",
       "      <th>std</th>\n",
       "      <td>0.927347</td>\n",
       "      <td>24.136699</td>\n",
       "    </tr>\n",
       "    <tr>\n",
       "      <th>min</th>\n",
       "      <td>1.000000</td>\n",
       "      <td>62.000000</td>\n",
       "    </tr>\n",
       "    <tr>\n",
       "      <th>25%</th>\n",
       "      <td>3.000000</td>\n",
       "      <td>137.250000</td>\n",
       "    </tr>\n",
       "    <tr>\n",
       "      <th>50%</th>\n",
       "      <td>4.000000</td>\n",
       "      <td>150.000000</td>\n",
       "    </tr>\n",
       "    <tr>\n",
       "      <th>75%</th>\n",
       "      <td>4.000000</td>\n",
       "      <td>160.000000</td>\n",
       "    </tr>\n",
       "    <tr>\n",
       "      <th>max</th>\n",
       "      <td>6.000000</td>\n",
       "      <td>188.000000</td>\n",
       "    </tr>\n",
       "  </tbody>\n",
       "</table>\n",
       "</div>"
      ],
      "text/plain": [
       "             age      length\n",
       "count  78.000000   78.000000\n",
       "mean    3.628205  143.602564\n",
       "std     0.927347   24.136699\n",
       "min     1.000000   62.000000\n",
       "25%     3.000000  137.250000\n",
       "50%     4.000000  150.000000\n",
       "75%     4.000000  160.000000\n",
       "max     6.000000  188.000000"
      ]
     },
     "execution_count": 4,
     "metadata": {},
     "output_type": "execute_result"
    }
   ],
   "source": [
    "datos.describe()"
   ]
  },
  {
   "cell_type": "code",
   "execution_count": 5,
   "metadata": {
    "scrolled": true
   },
   "outputs": [
    {
     "name": "stdout",
     "output_type": "stream",
     "text": [
      "<class 'pandas.core.frame.DataFrame'>\n",
      "RangeIndex: 78 entries, 0 to 77\n",
      "Data columns (total 2 columns):\n",
      " #   Column  Non-Null Count  Dtype\n",
      "---  ------  --------------  -----\n",
      " 0   age     78 non-null     int64\n",
      " 1   length  78 non-null     int64\n",
      "dtypes: int64(2)\n",
      "memory usage: 1.3 KB\n"
     ]
    }
   ],
   "source": [
    "datos.info()"
   ]
  },
  {
   "cell_type": "markdown",
   "metadata": {},
   "source": [
    "Graficamos los datos"
   ]
  },
  {
   "cell_type": "code",
   "execution_count": 6,
   "metadata": {
    "scrolled": true
   },
   "outputs": [
    {
     "data": {
      "image/png": "[encoded data removed]",
      "text/plain": [
       "<Figure size 432x288 with 1 Axes>"
      ]
     },
     "metadata": {
      "needs_background": "light"
     },
     "output_type": "display_data"
    }
   ],
   "source": [
    "x = datos[\"age\"]\n",
    "y = datos[\"length\"]\n",
    "\n",
    "plt.scatter(x, y)\n",
    "plt.xlabel(\"edad\")\n",
    "plt.ylabel(\"longitud\")\n",
    "plt.show()"
   ]
  },
  {
   "cell_type": "markdown",
   "metadata": {},
   "source": [
    "<div style=\"background-color: rgb(100, 80, 140)\">\n",
    "<h1 style=\"color: rgb(255, 255, 255);padding: 20px;font-weight:bold;font-size:22px;\"> Creación Modelos Linear Regression y Polinomial Regression\n",
    "</h1>\n",
    "</div>"
   ]
  },
  {
   "cell_type": "markdown",
   "metadata": {},
   "source": [
    "### Modelo de regresión lineal"
   ]
  },
  {
   "cell_type": "markdown",
   "metadata": {},
   "source": [
    "Primero dividivos los datos en los set de training y test usando la función test_train_split de s"
   ]
  },
  {
   "cell_type": "code",
   "execution_count": 7,
   "metadata": {
    "scrolled": true
   },
   "outputs": [],
   "source": [
    "X = datos[\"age\"].to_numpy().reshape(-1,1)\n",
    "y = datos[\"length\"].to_numpy()"
   ]
  },
  {
   "cell_type": "code",
   "execution_count": 8,
   "metadata": {},
   "outputs": [],
   "source": [
    "#Un 80% de los datos es de entrenamiento y el 20% restante de test\n",
    "x_train, x_test, y_train, y_test = train_test_split(X, y, test_size=0.2, random_state=2)"
   ]
  },
  {
   "cell_type": "markdown",
   "metadata": {},
   "source": [
    "Creamos el modelo"
   ]
  },
  {
   "cell_type": "code",
   "execution_count": 9,
   "metadata": {},
   "outputs": [],
   "source": [
    "lr = LinearRegression() # Creamos el objeto de Regresión Linear"
   ]
  },
  {
   "cell_type": "code",
   "execution_count": 10,
   "metadata": {},
   "outputs": [
    {
     "data": {
      "text/plain": [
       "(array([22.52808219]), 61.83493150684927)"
      ]
     },
     "execution_count": 10,
     "metadata": {},
     "output_type": "execute_result"
    }
   ],
   "source": [
    "model = lr.fit(x_train, y_train) # Entrenamos nuestro modelo\n",
    "model.coef_, model.intercept_ # Obtenemos el coeficiente de regresión y el punto de corte con el eje y"
   ]
  },
  {
   "cell_type": "markdown",
   "metadata": {},
   "source": [
    "En nuestro caso la ecuación calculada sería:\n",
    "\n",
    "y = 22.52808219x + 61.83493150684927"
   ]
  },
  {
   "cell_type": "code",
   "execution_count": 11,
   "metadata": {},
   "outputs": [],
   "source": [
    "y_predicted = lr.predict(x_train) #Usando la ecuación creada calculamos la variable de salida y para los datos de training"
   ]
  },
  {
   "cell_type": "markdown",
   "metadata": {},
   "source": [
    "#### Usamos ahora los valores del set test"
   ]
  },
  {
   "cell_type": "code",
   "execution_count": 12,
   "metadata": {},
   "outputs": [],
   "source": [
    "y_test_predicted = lr.predict(x_test)"
   ]
  },
  {
   "cell_type": "markdown",
   "metadata": {},
   "source": [
    "### Graficamos los datos"
   ]
  },
  {
   "cell_type": "code",
   "execution_count": 13,
   "metadata": {
    "scrolled": false
   },
   "outputs": [
    {
     "data": {
      "image/png": "[encoded data removed]",
      "text/plain": [
       "<Figure size 432x288 with 1 Axes>"
      ]
     },
     "metadata": {
      "needs_background": "light"
     },
     "output_type": "display_data"
    }
   ],
   "source": [
    "plt.scatter(x_train, y_train, color = \"b\")\n",
    "plt.scatter(x_test, y_test, color = \"g\")\n",
    "plt.plot(x_test, y_test_predicted, \"r\")\n",
    "plt.xlabel(\"edad\")\n",
    "plt.ylabel(\"longitud\")\n",
    "plt.show()"
   ]
  },
  {
   "cell_type": "code",
   "execution_count": 14,
   "metadata": {
    "scrolled": true
   },
   "outputs": [
    {
     "data": {
      "text/plain": [
       "12.675742030207651"
      ]
     },
     "execution_count": 14,
     "metadata": {},
     "output_type": "execute_result"
    }
   ],
   "source": [
    "rmse_test_lr = mean_squared_error (y_test, y_test_predicted, squared = False)\n",
    "rmse_test_lr"
   ]
  },
  {
   "cell_type": "code",
   "execution_count": 15,
   "metadata": {
    "scrolled": true
   },
   "outputs": [
    {
     "data": {
      "text/plain": [
       "160.6744360163728"
      ]
     },
     "execution_count": 15,
     "metadata": {},
     "output_type": "execute_result"
    }
   ],
   "source": [
    "mse_test_lr = mean_squared_error (y_test, y_test_predicted)\n",
    "mse_test_lr"
   ]
  },
  {
   "cell_type": "code",
   "execution_count": 16,
   "metadata": {
    "scrolled": true
   },
   "outputs": [
    {
     "data": {
      "text/plain": [
       "10.480607876712334"
      ]
     },
     "execution_count": 16,
     "metadata": {},
     "output_type": "execute_result"
    }
   ],
   "source": [
    "mae_test_lr = mean_absolute_error (y_test, y_test_predicted)\n",
    "mae_test_lr"
   ]
  },
  {
   "cell_type": "code",
   "execution_count": 17,
   "metadata": {},
   "outputs": [
    {
     "data": {
      "text/plain": [
       "0.7717642014194238"
      ]
     },
     "execution_count": 17,
     "metadata": {},
     "output_type": "execute_result"
    }
   ],
   "source": [
    "r2_test_lr = r2_score (y_test, y_test_predicted)\n",
    "r2_test_lr"
   ]
  },
  {
   "cell_type": "code",
   "execution_count": 18,
   "metadata": {},
   "outputs": [],
   "source": [
    "n = datos[\"age\"].size\n",
    "k = 1\n",
    "\n",
    "def adjusted_r2(r2, n, k):\n",
    "    ad_r2 = (1 - (((n-1)/(n-k-1)) * (1 - r2)))\n",
    "    return ad_r2"
   ]
  },
  {
   "cell_type": "code",
   "execution_count": 91,
   "metadata": {},
   "outputs": [
    {
     "data": {
      "text/plain": [
       "0.7687610988065215"
      ]
     },
     "execution_count": 91,
     "metadata": {},
     "output_type": "execute_result"
    }
   ],
   "source": [
    "ad_r2_test_lr = adjusted_r2 (r2_test_lr, n, k)\n",
    "ad_r2_test_lr"
   ]
  },
  {
   "cell_type": "markdown",
   "metadata": {},
   "source": [
    "### Probamos con un modelo de regresión polinomial"
   ]
  },
  {
   "cell_type": "markdown",
   "metadata": {},
   "source": [
    "Primero debemos definir el grado del polinomio, para ello hemos importado de la librería scikit learn las características polinomiales o PolynomialFeatures, y procedemos a definir el grado. Empezamos con una función cuadrática."
   ]
  },
  {
   "cell_type": "code",
   "execution_count": 20,
   "metadata": {},
   "outputs": [],
   "source": [
    "poly_2 = PolynomialFeatures (2)"
   ]
  },
  {
   "cell_type": "markdown",
   "metadata": {},
   "source": [
    "Definido el grado se procede a transformar las características de existentes, en este caso tanto x_train como x_test en características de mayor grado, para ello utilizamos el polinomio definido anteriormente y lo entrenamos a estos datos"
   ]
  },
  {
   "cell_type": "code",
   "execution_count": 21,
   "metadata": {},
   "outputs": [],
   "source": [
    "x_train_poly = poly_2.fit_transform(x_train)"
   ]
  },
  {
   "cell_type": "markdown",
   "metadata": {},
   "source": [
    "Definimos el algoritmo en nuestro modelo, que en este caso sería LinearRegression, con esta misma instrucción se puede calcular el modelo de Regresión Polinomial."
   ]
  },
  {
   "cell_type": "code",
   "execution_count": 22,
   "metadata": {
    "scrolled": true
   },
   "outputs": [
    {
     "data": {
      "text/plain": [
       "(array([ 0.        , 55.00027105, -4.85354174]), 11.4777737621975)"
      ]
     },
     "execution_count": 22,
     "metadata": {},
     "output_type": "execute_result"
    }
   ],
   "source": [
    "model2 = lr.fit(x_train_poly, y_train) # Entrenamos nuestro modelo\n",
    "model2.coef_, model2.intercept_ # Obtenemoslos coeficientes y el punto de corte con el eje y"
   ]
  },
  {
   "cell_type": "markdown",
   "metadata": {},
   "source": [
    "En este caso la ecuación quedaría:\n",
    "y = 55.00027105 x -4.85354174 x2 - 11.4777737621975"
   ]
  },
  {
   "cell_type": "code",
   "execution_count": 23,
   "metadata": {},
   "outputs": [],
   "source": [
    "y_train_poly_predicted = model2.predict (x_train_poly)"
   ]
  },
  {
   "cell_type": "markdown",
   "metadata": {},
   "source": [
    "Probamos la ecuación con los valores del set test. Primero transformamos los datos de x"
   ]
  },
  {
   "cell_type": "code",
   "execution_count": 24,
   "metadata": {},
   "outputs": [],
   "source": [
    "x_test_poly = poly_2.fit_transform(x_test)"
   ]
  },
  {
   "cell_type": "code",
   "execution_count": 25,
   "metadata": {
    "scrolled": true
   },
   "outputs": [],
   "source": [
    "y_test_poly_predicted = model2.predict(x_test_poly)"
   ]
  },
  {
   "cell_type": "code",
   "execution_count": 26,
   "metadata": {},
   "outputs": [
    {
     "data": {
      "text/plain": [
       "10.510839421666384"
      ]
     },
     "execution_count": 26,
     "metadata": {},
     "output_type": "execute_result"
    }
   ],
   "source": [
    "rmse_test_poly2 = mean_squared_error(y_test, y_test_poly_predicted, squared = False)\n",
    "rmse_test_poly2"
   ]
  },
  {
   "cell_type": "code",
   "execution_count": 27,
   "metadata": {
    "scrolled": true
   },
   "outputs": [
    {
     "data": {
      "text/plain": [
       "110.47774534805612"
      ]
     },
     "execution_count": 27,
     "metadata": {},
     "output_type": "execute_result"
    }
   ],
   "source": [
    "mse_test_poly2 = mean_squared_error (y_test, y_test_poly_predicted)\n",
    "mse_test_poly2"
   ]
  },
  {
   "cell_type": "code",
   "execution_count": 28,
   "metadata": {
    "scrolled": true
   },
   "outputs": [
    {
     "data": {
      "text/plain": [
       "8.541685489700022"
      ]
     },
     "execution_count": 28,
     "metadata": {},
     "output_type": "execute_result"
    }
   ],
   "source": [
    "mae_test_poly2 = mean_absolute_error (y_test, y_test_poly_predicted)\n",
    "mae_test_poly2"
   ]
  },
  {
   "cell_type": "code",
   "execution_count": 29,
   "metadata": {},
   "outputs": [
    {
     "data": {
      "text/plain": [
       "0.8430679014032718"
      ]
     },
     "execution_count": 29,
     "metadata": {},
     "output_type": "execute_result"
    }
   ],
   "source": [
    "r2_test_poly2 = r2_score (y_test, y_test_poly_predicted)\n",
    "r2_test_poly2"
   ]
  },
  {
   "cell_type": "code",
   "execution_count": 93,
   "metadata": {},
   "outputs": [
    {
     "data": {
      "text/plain": [
       "0.8410030053691043"
      ]
     },
     "execution_count": 93,
     "metadata": {},
     "output_type": "execute_result"
    }
   ],
   "source": [
    "ad_r2_test_poly2 = adjusted_r2 (r2_test_poly2, n, k)\n",
    "ad_r2_test_poly2"
   ]
  },
  {
   "cell_type": "raw",
   "metadata": {},
   "source": [
    "Graficamos los datos de test y training frenta al modelo de regresión polinomial"
   ]
  },
  {
   "cell_type": "markdown",
   "metadata": {},
   "source": [
    "Usando la ecuación que tenemos (y = 55.00027105 x -4.85354174 x2 - 11.4777737621975) creamos una linea con 100 puntos, que usaremos para superponerla en la gráfica junto con nuestros datos"
   ]
  },
  {
   "cell_type": "code",
   "execution_count": 31,
   "metadata": {
    "scrolled": true
   },
   "outputs": [],
   "source": [
    "puntos = np.linspace(1, 6, 100).reshape (-1, 1)\n",
    "puntos_poly = poly_2.fit_transform (puntos)\n",
    "y_puntos_poly = model2.predict (puntos_poly)"
   ]
  },
  {
   "cell_type": "code",
   "execution_count": 32,
   "metadata": {
    "scrolled": false
   },
   "outputs": [
    {
     "data": {
      "image/png": "[encoded data removed]",
      "text/plain": [
       "<Figure size 432x288 with 1 Axes>"
      ]
     },
     "metadata": {
      "needs_background": "light"
     },
     "output_type": "display_data"
    }
   ],
   "source": [
    "plt.scatter(x_train, y_train, color = \"g\")\n",
    "plt.scatter (x_test, y_test, color = \"b\")\n",
    "plt.plot (puntos, y_puntos_poly, \"r\")\n",
    "plt.xlabel(\"edad\")\n",
    "plt.ylabel(\"longitud\")\n",
    "plt.show()"
   ]
  },
  {
   "cell_type": "markdown",
   "metadata": {},
   "source": [
    "Si queremos comparar las métricas de los dos modelos con los datos de test"
   ]
  },
  {
   "cell_type": "markdown",
   "metadata": {},
   "source": [
    "Podemos crear un modelo con un polinomio de mayor grada siguiendo los mismos pasos"
   ]
  },
  {
   "cell_type": "code",
   "execution_count": 33,
   "metadata": {},
   "outputs": [],
   "source": [
    "poly_3 = PolynomialFeatures (3)"
   ]
  },
  {
   "cell_type": "code",
   "execution_count": 34,
   "metadata": {},
   "outputs": [],
   "source": [
    "x_train_poly3 = poly_3.fit_transform(x_train)"
   ]
  },
  {
   "cell_type": "code",
   "execution_count": 35,
   "metadata": {},
   "outputs": [],
   "source": [
    "model3 = lr.fit(x_train_poly3, y_train)"
   ]
  },
  {
   "cell_type": "code",
   "execution_count": 36,
   "metadata": {},
   "outputs": [],
   "source": [
    "x_test_poly3 = poly_3.fit_transform (x_test)"
   ]
  },
  {
   "cell_type": "code",
   "execution_count": 37,
   "metadata": {},
   "outputs": [],
   "source": [
    "puntos_poly3 = poly_3.fit_transform (puntos)\n",
    "y_puntos_poly3 = model3.predict (puntos_poly3)"
   ]
  },
  {
   "cell_type": "code",
   "execution_count": 38,
   "metadata": {},
   "outputs": [
    {
     "data": {
      "image/png": "[encoded data removed]",
      "text/plain": [
       "<Figure size 432x288 with 1 Axes>"
      ]
     },
     "metadata": {
      "needs_background": "light"
     },
     "output_type": "display_data"
    }
   ],
   "source": [
    "plt.scatter(x_train, y_train, color = \"g\")\n",
    "plt.scatter (x_test, y_test, color = \"b\")\n",
    "plt.plot (puntos, y_puntos_poly3, \"r\")\n",
    "plt.xlabel(\"edad\")\n",
    "plt.ylabel(\"longitud\")\n",
    "plt.show()"
   ]
  },
  {
   "cell_type": "code",
   "execution_count": 39,
   "metadata": {},
   "outputs": [],
   "source": [
    "y_test_poly3 = model3.predict(x_test_poly3)"
   ]
  },
  {
   "cell_type": "code",
   "execution_count": 40,
   "metadata": {},
   "outputs": [
    {
     "data": {
      "text/plain": [
       "10.594325981745554"
      ]
     },
     "execution_count": 40,
     "metadata": {},
     "output_type": "execute_result"
    }
   ],
   "source": [
    "rmse_test_poly3 = mean_squared_error (y_test, y_test_poly3, squared = False)\n",
    "rmse_test_poly3"
   ]
  },
  {
   "cell_type": "code",
   "execution_count": 42,
   "metadata": {
    "scrolled": true
   },
   "outputs": [
    {
     "data": {
      "text/plain": [
       "112.2397430074889"
      ]
     },
     "execution_count": 42,
     "metadata": {},
     "output_type": "execute_result"
    }
   ],
   "source": [
    "mse_test_poly3 = mean_squared_error (y_test, y_test_poly3)\n",
    "mse_test_poly3"
   ]
  },
  {
   "cell_type": "code",
   "execution_count": 44,
   "metadata": {
    "scrolled": true
   },
   "outputs": [
    {
     "data": {
      "text/plain": [
       "8.662342040188477"
      ]
     },
     "execution_count": 44,
     "metadata": {},
     "output_type": "execute_result"
    }
   ],
   "source": [
    "mae_test_poly3 = mean_absolute_error (y_test, y_test_poly3)\n",
    "mae_test_poly3"
   ]
  },
  {
   "cell_type": "code",
   "execution_count": 45,
   "metadata": {},
   "outputs": [],
   "source": [
    "r2_test_poly3 = r2_score (y_test, y_test_poly3)"
   ]
  },
  {
   "cell_type": "code",
   "execution_count": 94,
   "metadata": {},
   "outputs": [
    {
     "data": {
      "text/plain": [
       "0.8384671794295553"
      ]
     },
     "execution_count": 94,
     "metadata": {},
     "output_type": "execute_result"
    }
   ],
   "source": [
    "ad_r2_test_poly3 = adjusted_r2 (r2_test_poly3, n, k)\n",
    "ad_r2_test_poly3"
   ]
  },
  {
   "cell_type": "code",
   "execution_count": 47,
   "metadata": {
    "scrolled": false
   },
   "outputs": [
    {
     "data": {
      "text/html": [
       "<div>\n",
       "<style scoped>\n",
       "    .dataframe tbody tr th:only-of-type {\n",
       "        vertical-align: middle;\n",
       "    }\n",
       "\n",
       "    .dataframe tbody tr th {\n",
       "        vertical-align: top;\n",
       "    }\n",
       "\n",
       "    .dataframe thead th {\n",
       "        text-align: right;\n",
       "    }\n",
       "</style>\n",
       "<table border=\"1\" class=\"dataframe\">\n",
       "  <thead>\n",
       "    <tr style=\"text-align: right;\">\n",
       "      <th></th>\n",
       "      <th>Test_RSME</th>\n",
       "      <th>Test_r2</th>\n",
       "    </tr>\n",
       "  </thead>\n",
       "  <tbody>\n",
       "    <tr>\n",
       "      <th>Regresión lineal</th>\n",
       "      <td>12.675742</td>\n",
       "      <td>0.771764</td>\n",
       "    </tr>\n",
       "    <tr>\n",
       "      <th>Regresión polinómica grado 2</th>\n",
       "      <td>10.510839</td>\n",
       "      <td>0.843068</td>\n",
       "    </tr>\n",
       "    <tr>\n",
       "      <th>Regresión polinómica grado 3</th>\n",
       "      <td>10.594326</td>\n",
       "      <td>0.840565</td>\n",
       "    </tr>\n",
       "  </tbody>\n",
       "</table>\n",
       "</div>"
      ],
      "text/plain": [
       "                              Test_RSME   Test_r2\n",
       "Regresión lineal              12.675742  0.771764\n",
       "Regresión polinómica grado 2  10.510839  0.843068\n",
       "Regresión polinómica grado 3  10.594326  0.840565"
      ]
     },
     "execution_count": 47,
     "metadata": {},
     "output_type": "execute_result"
    }
   ],
   "source": [
    "resultados = pd.DataFrame( {\"Test_RSME\": [rmse_test_lr, rmse_test_poly2, rmse_test_poly3], \n",
    "                            \"Test_r2\": [r2_test_lr, r2_test_poly2, r2_test_poly3]}, \n",
    "                          index = [\"Regresión lineal\", \"Regresión polinómica grado 2\", \"Regresión polinómica grado 3\"])\n",
    "resultados"
   ]
  },
  {
   "cell_type": "markdown",
   "metadata": {},
   "source": [
    "## Resultado"
   ]
  },
  {
   "cell_type": "markdown",
   "metadata": {},
   "source": [
    "Si prestamos atención a los parámetros RSME y R2 para los tres modelos vemos que la RMSE más baja y la R2 más alta son para el modelo de regresión polinómica de grado 2. Por lo que si queremos estimar la longitud de un pez atendiendo a su edad aplicaríamos la fórmula:\n",
    "\n",
    "y = 55.00027105 x -4.85354174 x2 - 11.4777737621975\n",
    "\n",
    "longitud = 55.00027105 edad -4.85354174 edad2 - 11.4777737621975\n"
   ]
  },
  {
   "cell_type": "markdown",
   "metadata": {},
   "source": [
    "## Nota"
   ]
  },
  {
   "cell_type": "markdown",
   "metadata": {},
   "source": [
    "Hay que tener en cuenta que si cambiamos los datos de training y test este resultado puede verse afectado, ya que el dataset es muy pequeño. Habría que usar una validación cruzada para estimar mejor el rendimiento del modelo."
   ]
  },
  {
   "cell_type": "markdown",
   "metadata": {},
   "source": [
    "<div style=\"background-color: rgb(100, 80, 140)\">\n",
    "<h1 style=\"color: rgb(255, 255, 255);padding: 20px;font-weight:bold;font-size:22px;\"> Creación Modelos Support Vector Regressor\n",
    "</h1>\n",
    "</div>"
   ]
  },
  {
   "cell_type": "markdown",
   "metadata": {},
   "source": [
    "### Probamos el modelo SVR con el kernel \"rbf\" y GridSearchCV"
   ]
  },
  {
   "cell_type": "code",
   "execution_count": 51,
   "metadata": {},
   "outputs": [],
   "source": [
    "from sklearn.svm import SVR"
   ]
  },
  {
   "cell_type": "code",
   "execution_count": 52,
   "metadata": {},
   "outputs": [],
   "source": [
    "grid = GridSearchCV (estimator = SVR(kernel = \"rbf\"), \n",
    "                     param_grid = { \"C\": [1,  10, 100, 1000],\"epsilon\" : [0.001, 0.01, 0.1, 1],\"gamma\" : [0.001, 0.01, 0.1, 1]},\n",
    "                     cv = 5,\n",
    "                     scoring = \"neg_mean_squared_error\")\n"
   ]
  },
  {
   "cell_type": "code",
   "execution_count": 53,
   "metadata": {
    "scrolled": true
   },
   "outputs": [
    {
     "name": "stdout",
     "output_type": "stream",
     "text": [
      "{'C': 1000, 'epsilon': 1, 'gamma': 0.01}\n"
     ]
    }
   ],
   "source": [
    "svr_rbf_grid = grid.fit(x_train, y_train)\n",
    "\n",
    "print (grid.best_params_)"
   ]
  },
  {
   "cell_type": "code",
   "execution_count": 54,
   "metadata": {
    "scrolled": true
   },
   "outputs": [],
   "source": [
    "y_test_rbf_grid_pred = svr_rbf_grid.predict(x_test)"
   ]
  },
  {
   "cell_type": "code",
   "execution_count": null,
   "metadata": {},
   "outputs": [],
   "source": []
  },
  {
   "cell_type": "code",
   "execution_count": 55,
   "metadata": {},
   "outputs": [
    {
     "data": {
      "image/png": "[encoded data removed]",
      "text/plain": [
       "<Figure size 432x288 with 1 Axes>"
      ]
     },
     "metadata": {
      "needs_background": "light"
     },
     "output_type": "display_data"
    }
   ],
   "source": [
    "plt.scatter(x_train, y_train, color = \"g\")\n",
    "plt.scatter(x_test, y_test, color = \"b\")\n",
    "puntos_rbf_grid = svr_rbf_grid.predict (puntos)\n",
    "plt.plot(puntos, puntos_rbf_grid, \"r\")\n",
    "plt.xlabel(\"edad\")\n",
    "plt.ylabel(\"longitud\")\n",
    "plt.show()"
   ]
  },
  {
   "cell_type": "code",
   "execution_count": 56,
   "metadata": {},
   "outputs": [
    {
     "data": {
      "text/plain": [
       "11.40944026684951"
      ]
     },
     "execution_count": 56,
     "metadata": {},
     "output_type": "execute_result"
    }
   ],
   "source": [
    "rmse_rbf_grid = mean_squared_error (y_test, y_test_rbf_grid_pred, squared = False)\n",
    "rmse_rbf_grid"
   ]
  },
  {
   "cell_type": "code",
   "execution_count": 57,
   "metadata": {
    "scrolled": true
   },
   "outputs": [
    {
     "data": {
      "text/plain": [
       "130.175327202807"
      ]
     },
     "execution_count": 57,
     "metadata": {},
     "output_type": "execute_result"
    }
   ],
   "source": [
    "mse_rbf_grid = mean_squared_error (y_test, y_test_rbf_grid_pred)\n",
    "mse_rbf_grid"
   ]
  },
  {
   "cell_type": "code",
   "execution_count": 58,
   "metadata": {
    "scrolled": true
   },
   "outputs": [
    {
     "data": {
      "text/plain": [
       "9.493874788134523"
      ]
     },
     "execution_count": 58,
     "metadata": {},
     "output_type": "execute_result"
    }
   ],
   "source": [
    "mae_rbf_grid = mean_absolute_error (y_test, y_test_rbf_grid_pred)\n",
    "mae_rbf_grid"
   ]
  },
  {
   "cell_type": "code",
   "execution_count": 59,
   "metadata": {},
   "outputs": [
    {
     "data": {
      "text/plain": [
       "0.8150877607151338"
      ]
     },
     "execution_count": 59,
     "metadata": {},
     "output_type": "execute_result"
    }
   ],
   "source": [
    "r2_score_rbf_grid = r2_score (y_test, y_test_rbf_grid_pred)\n",
    "r2_score_rbf_grid"
   ]
  },
  {
   "cell_type": "code",
   "execution_count": 60,
   "metadata": {
    "scrolled": true
   },
   "outputs": [
    {
     "data": {
      "text/plain": [
       "0.8126547049350697"
      ]
     },
     "execution_count": 60,
     "metadata": {},
     "output_type": "execute_result"
    }
   ],
   "source": [
    "ad_r2_rbf_grid = adjusted_r2 (r2_score_rbf_grid, n, k)\n",
    "ad_r2_rbf_grid"
   ]
  },
  {
   "cell_type": "markdown",
   "metadata": {},
   "source": [
    "### Probamos el modelo SVR con el kernel \"linear\" y GridSearchCV"
   ]
  },
  {
   "cell_type": "code",
   "execution_count": 61,
   "metadata": {},
   "outputs": [],
   "source": [
    "grid = GridSearchCV (estimator = SVR(kernel = \"linear\"), \n",
    "                     param_grid = { \"C\": [1,  10, 100, 1000]},\n",
    "                     cv = 5,\n",
    "                     scoring = \"neg_mean_squared_error\")"
   ]
  },
  {
   "cell_type": "code",
   "execution_count": 62,
   "metadata": {},
   "outputs": [
    {
     "name": "stdout",
     "output_type": "stream",
     "text": [
      "{'C': 10}\n"
     ]
    }
   ],
   "source": [
    "svr_linear_grid = grid.fit (x_train, y_train)\n",
    "print (svr_linear_grid.best_params_)"
   ]
  },
  {
   "cell_type": "code",
   "execution_count": 63,
   "metadata": {},
   "outputs": [],
   "source": [
    "y_test_linear_grid_pred = svr_linear_grid.predict (x_test)"
   ]
  },
  {
   "cell_type": "code",
   "execution_count": 64,
   "metadata": {},
   "outputs": [
    {
     "data": {
      "image/png": "[encoded data removed]",
      "text/plain": [
       "<Figure size 432x288 with 1 Axes>"
      ]
     },
     "metadata": {
      "needs_background": "light"
     },
     "output_type": "display_data"
    }
   ],
   "source": [
    "plt.scatter(x_train, y_train, color = \"g\")\n",
    "plt.scatter(x_test, y_test, color = \"b\")\n",
    "puntos_linear_grid = svr_linear_grid.predict (puntos)\n",
    "plt.plot(puntos, puntos_linear_grid, \"r\")\n",
    "plt.xlabel(\"edad\")\n",
    "plt.ylabel(\"longitud\")\n",
    "plt.show()"
   ]
  },
  {
   "cell_type": "code",
   "execution_count": 65,
   "metadata": {},
   "outputs": [
    {
     "data": {
      "text/plain": [
       "12.8170053054526"
      ]
     },
     "execution_count": 65,
     "metadata": {},
     "output_type": "execute_result"
    }
   ],
   "source": [
    "rmse_linear_grid = mean_squared_error (y_test, y_test_linear_grid_pred, squared = False)\n",
    "rmse_linear_grid"
   ]
  },
  {
   "cell_type": "code",
   "execution_count": 66,
   "metadata": {
    "scrolled": true
   },
   "outputs": [
    {
     "data": {
      "text/plain": [
       "164.2756250000001"
      ]
     },
     "execution_count": 66,
     "metadata": {},
     "output_type": "execute_result"
    }
   ],
   "source": [
    "mse_linear_grid = mean_squared_error (y_test, y_test_linear_grid_pred)\n",
    "mse_linear_grid"
   ]
  },
  {
   "cell_type": "code",
   "execution_count": 67,
   "metadata": {
    "scrolled": true
   },
   "outputs": [
    {
     "data": {
      "text/plain": [
       "10.331250000000006"
      ]
     },
     "execution_count": 67,
     "metadata": {},
     "output_type": "execute_result"
    }
   ],
   "source": [
    "mae_linear_grid = mean_absolute_error (y_test, y_test_linear_grid_pred)\n",
    "mae_linear_grid"
   ]
  },
  {
   "cell_type": "code",
   "execution_count": 68,
   "metadata": {},
   "outputs": [
    {
     "data": {
      "text/plain": [
       "0.76664876262346"
      ]
     },
     "execution_count": 68,
     "metadata": {},
     "output_type": "execute_result"
    }
   ],
   "source": [
    "r2_linear_grid = r2_score (y_test, y_test_linear_grid_pred)\n",
    "r2_linear_grid"
   ]
  },
  {
   "cell_type": "code",
   "execution_count": 70,
   "metadata": {},
   "outputs": [
    {
     "data": {
      "text/plain": [
       "0.7635783516053477"
      ]
     },
     "execution_count": 70,
     "metadata": {},
     "output_type": "execute_result"
    }
   ],
   "source": [
    "ad_r2_linear_grid = adjusted_r2 (r2_linear_grid, n, k)\n",
    "ad_r2_linear_grid"
   ]
  },
  {
   "cell_type": "markdown",
   "metadata": {},
   "source": [
    "### Probamos el modelo SVR con el kernel \"poly\" y GridSearchCV"
   ]
  },
  {
   "cell_type": "code",
   "execution_count": 71,
   "metadata": {},
   "outputs": [],
   "source": [
    "grid = GridSearchCV (estimator = SVR(kernel = \"poly\", degree = 3),\n",
    "                     param_grid = { \"C\": [1,  10, 100, 1000], \"epsilon\" : [0.001, 0.01, 0.1, 1],\"gamma\" : [0.001, 0.01, 0.1, 1], \"coef0\" : [1] },\n",
    "                     cv = 5,\n",
    "                     scoring = \"neg_mean_squared_error\")\n"
   ]
  },
  {
   "cell_type": "code",
   "execution_count": 72,
   "metadata": {},
   "outputs": [
    {
     "name": "stdout",
     "output_type": "stream",
     "text": [
      "{'C': 100, 'coef0': 1, 'epsilon': 0.1, 'gamma': 1}\n"
     ]
    }
   ],
   "source": [
    "svr_poly_grid = grid.fit (x_train, y_train)\n",
    "print (svr_poly_grid.best_params_)"
   ]
  },
  {
   "cell_type": "code",
   "execution_count": 73,
   "metadata": {},
   "outputs": [],
   "source": [
    "y_test_poly_grid_pred = svr_poly_grid.predict (x_test)"
   ]
  },
  {
   "cell_type": "code",
   "execution_count": 76,
   "metadata": {
    "scrolled": true
   },
   "outputs": [
    {
     "data": {
      "image/png": "[encoded data removed]",
      "text/plain": [
       "<Figure size 432x288 with 1 Axes>"
      ]
     },
     "metadata": {
      "needs_background": "light"
     },
     "output_type": "display_data"
    }
   ],
   "source": [
    "plt.scatter(x_train, y_train, color = \"g\")\n",
    "plt.scatter(x_test, y_test, color = \"b\")\n",
    "puntos_svr_poly_grid = svr_poly_grid.predict (puntos)\n",
    "plt.plot(puntos, puntos_svr_poly_grid, \"r\")\n",
    "plt.xlabel(\"edad\")\n",
    "plt.ylabel(\"longitud\")\n",
    "plt.show()"
   ]
  },
  {
   "cell_type": "code",
   "execution_count": 77,
   "metadata": {},
   "outputs": [
    {
     "data": {
      "text/plain": [
       "10.906358627485817"
      ]
     },
     "execution_count": 77,
     "metadata": {},
     "output_type": "execute_result"
    }
   ],
   "source": [
    "rmse_poly_grid = mean_squared_error (y_test, y_test_poly_grid_pred, squared = False)\n",
    "rmse_poly_grid"
   ]
  },
  {
   "cell_type": "code",
   "execution_count": 85,
   "metadata": {
    "scrolled": true
   },
   "outputs": [
    {
     "data": {
      "text/plain": [
       "118.94865851133432"
      ]
     },
     "execution_count": 85,
     "metadata": {},
     "output_type": "execute_result"
    }
   ],
   "source": [
    "mse_poly_grid = mean_squared_error (y_test, y_test_poly_grid_pred)\n",
    "mse_poly_grid"
   ]
  },
  {
   "cell_type": "code",
   "execution_count": 87,
   "metadata": {
    "scrolled": true
   },
   "outputs": [
    {
     "data": {
      "text/plain": [
       "9.058238073855815"
      ]
     },
     "execution_count": 87,
     "metadata": {},
     "output_type": "execute_result"
    }
   ],
   "source": [
    "mae_poly_grid = mean_absolute_error (y_test, y_test_poly_grid_pred)\n",
    "mae_poly_grid"
   ]
  },
  {
   "cell_type": "code",
   "execution_count": 88,
   "metadata": {},
   "outputs": [
    {
     "data": {
      "text/plain": [
       "0.8310350872328177"
      ]
     },
     "execution_count": 88,
     "metadata": {},
     "output_type": "execute_result"
    }
   ],
   "source": [
    "r2_poly_grid = r2_score (y_test, y_test_poly_grid_pred)\n",
    "r2_poly_grid"
   ]
  },
  {
   "cell_type": "code",
   "execution_count": 89,
   "metadata": {
    "scrolled": true
   },
   "outputs": [
    {
     "data": {
      "text/plain": [
       "0.8288118646964074"
      ]
     },
     "execution_count": 89,
     "metadata": {},
     "output_type": "execute_result"
    }
   ],
   "source": [
    "ad_r2_poly_grid = adjusted_r2 (r2_poly_grid, n, k)\n",
    "ad_r2_poly_grid"
   ]
  },
  {
   "cell_type": "markdown",
   "metadata": {},
   "source": [
    "### Resultados"
   ]
  },
  {
   "cell_type": "code",
   "execution_count": 95,
   "metadata": {
    "scrolled": true
   },
   "outputs": [
    {
     "data": {
      "text/html": [
       "<div>\n",
       "<style scoped>\n",
       "    .dataframe tbody tr th:only-of-type {\n",
       "        vertical-align: middle;\n",
       "    }\n",
       "\n",
       "    .dataframe tbody tr th {\n",
       "        vertical-align: top;\n",
       "    }\n",
       "\n",
       "    .dataframe thead th {\n",
       "        text-align: right;\n",
       "    }\n",
       "</style>\n",
       "<table border=\"1\" class=\"dataframe\">\n",
       "  <thead>\n",
       "    <tr style=\"text-align: right;\">\n",
       "      <th></th>\n",
       "      <th>RMSE</th>\n",
       "      <th>MSE</th>\n",
       "      <th>MAE</th>\n",
       "      <th>R2</th>\n",
       "      <th>aR2</th>\n",
       "    </tr>\n",
       "  </thead>\n",
       "  <tbody>\n",
       "    <tr>\n",
       "      <th>Regresión lineal</th>\n",
       "      <td>12.675742</td>\n",
       "      <td>160.674436</td>\n",
       "      <td>10.480608</td>\n",
       "      <td>0.771764</td>\n",
       "      <td>0.768761</td>\n",
       "    </tr>\n",
       "    <tr>\n",
       "      <th>Regresión polinómica grado 2</th>\n",
       "      <td>10.510839</td>\n",
       "      <td>110.477745</td>\n",
       "      <td>8.541685</td>\n",
       "      <td>0.843068</td>\n",
       "      <td>0.841003</td>\n",
       "    </tr>\n",
       "    <tr>\n",
       "      <th>Regresión polinómica grado 3</th>\n",
       "      <td>10.594326</td>\n",
       "      <td>112.239743</td>\n",
       "      <td>8.662342</td>\n",
       "      <td>0.840565</td>\n",
       "      <td>0.838467</td>\n",
       "    </tr>\n",
       "    <tr>\n",
       "      <th>SVR rbf GridSearchCV</th>\n",
       "      <td>11.409440</td>\n",
       "      <td>130.175327</td>\n",
       "      <td>9.493875</td>\n",
       "      <td>0.815088</td>\n",
       "      <td>0.812655</td>\n",
       "    </tr>\n",
       "    <tr>\n",
       "      <th>SVR lineal GridSearchCV</th>\n",
       "      <td>12.817005</td>\n",
       "      <td>164.275625</td>\n",
       "      <td>10.331250</td>\n",
       "      <td>0.766649</td>\n",
       "      <td>0.763578</td>\n",
       "    </tr>\n",
       "    <tr>\n",
       "      <th>SVR polinómica GridSearchCV</th>\n",
       "      <td>10.906359</td>\n",
       "      <td>118.948659</td>\n",
       "      <td>9.058238</td>\n",
       "      <td>0.831035</td>\n",
       "      <td>0.828812</td>\n",
       "    </tr>\n",
       "  </tbody>\n",
       "</table>\n",
       "</div>"
      ],
      "text/plain": [
       "                                   RMSE         MSE        MAE        R2  \\\n",
       "Regresión lineal              12.675742  160.674436  10.480608  0.771764   \n",
       "Regresión polinómica grado 2  10.510839  110.477745   8.541685  0.843068   \n",
       "Regresión polinómica grado 3  10.594326  112.239743   8.662342  0.840565   \n",
       "SVR rbf GridSearchCV          11.409440  130.175327   9.493875  0.815088   \n",
       "SVR lineal GridSearchCV       12.817005  164.275625  10.331250  0.766649   \n",
       "SVR polinómica GridSearchCV   10.906359  118.948659   9.058238  0.831035   \n",
       "\n",
       "                                   aR2  \n",
       "Regresión lineal              0.768761  \n",
       "Regresión polinómica grado 2  0.841003  \n",
       "Regresión polinómica grado 3  0.838467  \n",
       "SVR rbf GridSearchCV          0.812655  \n",
       "SVR lineal GridSearchCV       0.763578  \n",
       "SVR polinómica GridSearchCV   0.828812  "
      ]
     },
     "execution_count": 95,
     "metadata": {},
     "output_type": "execute_result"
    }
   ],
   "source": [
    "resultados = pd.DataFrame( {\"RMSE\": [rmse_test_lr, rmse_test_poly2, rmse_test_poly3, rmse_rbf_grid, rmse_linear_grid, rmse_poly_grid],\n",
    "                            \"MSE\": [mse_test_lr, mse_test_poly2, mse_test_poly3, mse_rbf_grid, mse_linear_grid, mse_poly_grid],\n",
    "                            \"MAE\" : [mae_test_lr, mae_test_poly2, mae_test_poly3, mae_rbf_grid, mae_linear_grid, mae_poly_grid],\n",
    "                            \"R2\": [r2_test_lr, r2_test_poly2, r2_test_poly3, r2_score_rbf_grid, r2_linear_grid, r2_poly_grid],\n",
    "                            \"aR2\" : [ad_r2_test_lr, ad_r2_test_poly2, ad_r2_test_poly3, ad_r2_rbf_grid, ad_r2_linear_grid, ad_r2_poly_grid]},\n",
    "                          index = [\"Regresión lineal\", \"Regresión polinómica grado 2\", \"Regresión polinómica grado 3\",\n",
    "                                   \"SVR rbf GridSearchCV\",\"SVR lineal GridSearchCV\", \"SVR polinómica GridSearchCV\" ])\n",
    "resultados"
   ]
  },
  {
   "cell_type": "markdown",
   "metadata": {},
   "source": [
    "#### Según las métricas calculadas en la tabla de la celda anterior, el modelo con un RMSE menor y una R2 y R2 ajustada mayor sería el modelo de regresión polinómica de grado 2"
   ]
  },
  {
   "cell_type": "code",
   "execution_count": null,
   "metadata": {},
   "outputs": [],
   "source": []
  },
  {
   "cell_type": "code",
   "execution_count": null,
   "metadata": {},
   "outputs": [],
   "source": []
  }
 ],
 "metadata": {
  "kernelspec": {
   "display_name": "Python 3 (ipykernel)",
   "language": "python",
   "name": "python3"
  },
  "language_info": {
   "codemirror_mode": {
    "name": "ipython",
    "version": 3
   },
   "file_extension": ".py",
   "mimetype": "text/x-python",
   "name": "python",
   "nbconvert_exporter": "python",
   "pygments_lexer": "ipython3",
   "version": "3.9.7"
  }
 },
 "nbformat": 4,
 "nbformat_minor": 4
}
