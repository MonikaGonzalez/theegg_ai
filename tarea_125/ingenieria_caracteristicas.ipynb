{
 "cells": [
  {
   "cell_type": "markdown",
   "metadata": {},
   "source": [
    "<h2>Introducción</h2>\n",
    "\n",
    "Lo ideal es que los datos numéricos vengan en un formato ordenado pero en el mundo real esto no suele ser así. La ingeniería de características juega un papel importante para convertir la información entrante en una matriz de características relevante para los modelos. En este Notebook, veremos algunos ejemplos comunes de tareas de ingeniería de características.\n",
    "\n",
    "<h2>Atributos categóricos</h2>\n",
    "\n",
    "Un tipo común de datos no numéricos son los datos categóricos. Por ejemplo, imagine que está explorando algunos datos sobre el precio de la vivienda, y que junto con características numéricas como \"precio\" y \"número de habitaciones\", también tiene información sobre el \"barrio\":"
   ]
  },
  {
   "cell_type": "code",
   "execution_count": 3,
   "metadata": {},
   "outputs": [],
   "source": [
    "datos = [\n",
    "    {'precio': 675000, 'habitaciones': 4, 'barrio': 'Barrio A'},\n",
    "    {'precio': 745000, 'habitaciones': 3, 'barrio': 'Barrio B'},\n",
    "    {'precio': 375000, 'habitaciones': 3, 'barrio': 'Barrio C'},\n",
    "    {'precio': 458000, 'habitaciones': 4, 'barrio': 'Barrio D'}\n",
    "]"
   ]
  },
  {
   "cell_type": "markdown",
   "metadata": {},
   "source": [
    "Se puede tener la tentación de codificar estos datos con un mapeo numérico directo: Barrio A = 1, Barrio B = 2, Barrio C = 3, Barrio D = 4. \n",
    "\n",
    "Esto puede derivar en un problema si las características numéricas se entienden como cantidades algebraicas: Por ejemplo, Barrio C > Barrio A, y esto no tiene sentido.\n",
    "\n",
    "En este caso, una técnica utilizada es el One-hot encoding. Esta técnica crea columnas adicionales que indican la presencia o ausencia de una categoría con un valor de 1 o 0."
   ]
  },
  {
   "cell_type": "code",
   "execution_count": 4,
   "metadata": {},
   "outputs": [
    {
     "data": {
      "text/plain": [
       "array([[     1,      0,      0,      0,      4, 675000],\n",
       "       [     0,      1,      0,      0,      3, 745000],\n",
       "       [     0,      0,      1,      0,      3, 375000],\n",
       "       [     0,      0,      0,      1,      4, 458000]])"
      ]
     },
     "execution_count": 4,
     "metadata": {},
     "output_type": "execute_result"
    }
   ],
   "source": [
    "from sklearn.feature_extraction import DictVectorizer\n",
    "vector = DictVectorizer(sparse=False, dtype=int)\n",
    "vector.fit_transform(datos)"
   ]
  },
  {
   "cell_type": "markdown",
   "metadata": {},
   "source": [
    "<h2>Atributos en texto</h2>\n",
    "\n",
    "A veces hay que convertir el texto en un conjunto de valores numéricos representativos. Por ejemplo, la mayor parte de la minería automática de datos de RRSS se basa en alguna forma de codificar el texto como números. Uno de los métodos más sencillos de codificación de datos es el recuento de palabras: se toma cada fragmento de texto, se cuentan las apariciones de cada palabra en él y se colocan los resultados en una tabla."
   ]
  },
  {
   "cell_type": "code",
   "execution_count": 12,
   "metadata": {},
   "outputs": [],
   "source": [
    "textos = ['Caliente es a frío como luz a la oscuridad',\n",
    "          'Calzado es al pie como guante es a mano',\n",
    "          'Capitán es a barco como alcalde es a ciudad']"
   ]
  },
  {
   "cell_type": "markdown",
   "metadata": {},
   "source": [
    "Para una vectorización de estos datos basada en el recuento de palabras, se podría construir una columna que represente la palabra \"Caliente\", la palabra \"Guante\", la palabra \"Alcalde\", etcétera. Este tedioso trabajo se puede hacer con <em>CountVectorizer</em> de Scikit-Learn:"
   ]
  },
  {
   "cell_type": "code",
   "execution_count": 13,
   "metadata": {},
   "outputs": [
    {
     "data": {
      "text/plain": [
       "<3x16 sparse matrix of type '<class 'numpy.int64'>'\n",
       "\twith 20 stored elements in Compressed Sparse Row format>"
      ]
     },
     "execution_count": 13,
     "metadata": {},
     "output_type": "execute_result"
    }
   ],
   "source": [
    "from sklearn.feature_extraction.text import CountVectorizer\n",
    "\n",
    "vector = CountVectorizer()\n",
    "rtdo = vector.fit_transform(textos)\n",
    "rtdo"
   ]
  },
  {
   "cell_type": "markdown",
   "metadata": {},
   "source": [
    "El resultado del siguiente código es una matriz ue registra el número de veces que aparece cada palabra:"
   ]
  },
  {
   "cell_type": "code",
   "execution_count": 14,
   "metadata": {},
   "outputs": [
    {
     "data": {
      "text/html": [
       "<div>\n",
       "<style scoped>\n",
       "    .dataframe tbody tr th:only-of-type {\n",
       "        vertical-align: middle;\n",
       "    }\n",
       "\n",
       "    .dataframe tbody tr th {\n",
       "        vertical-align: top;\n",
       "    }\n",
       "\n",
       "    .dataframe thead th {\n",
       "        text-align: right;\n",
       "    }\n",
       "</style>\n",
       "<table border=\"1\" class=\"dataframe\">\n",
       "  <thead>\n",
       "    <tr style=\"text-align: right;\">\n",
       "      <th></th>\n",
       "      <th>al</th>\n",
       "      <th>alcalde</th>\n",
       "      <th>barco</th>\n",
       "      <th>caliente</th>\n",
       "      <th>calzado</th>\n",
       "      <th>capitán</th>\n",
       "      <th>ciudad</th>\n",
       "      <th>como</th>\n",
       "      <th>es</th>\n",
       "      <th>frío</th>\n",
       "      <th>guante</th>\n",
       "      <th>la</th>\n",
       "      <th>luz</th>\n",
       "      <th>mano</th>\n",
       "      <th>oscuridad</th>\n",
       "      <th>pie</th>\n",
       "    </tr>\n",
       "  </thead>\n",
       "  <tbody>\n",
       "    <tr>\n",
       "      <th>0</th>\n",
       "      <td>0</td>\n",
       "      <td>0</td>\n",
       "      <td>0</td>\n",
       "      <td>1</td>\n",
       "      <td>0</td>\n",
       "      <td>0</td>\n",
       "      <td>0</td>\n",
       "      <td>1</td>\n",
       "      <td>1</td>\n",
       "      <td>1</td>\n",
       "      <td>0</td>\n",
       "      <td>1</td>\n",
       "      <td>1</td>\n",
       "      <td>0</td>\n",
       "      <td>1</td>\n",
       "      <td>0</td>\n",
       "    </tr>\n",
       "    <tr>\n",
       "      <th>1</th>\n",
       "      <td>1</td>\n",
       "      <td>0</td>\n",
       "      <td>0</td>\n",
       "      <td>0</td>\n",
       "      <td>1</td>\n",
       "      <td>0</td>\n",
       "      <td>0</td>\n",
       "      <td>1</td>\n",
       "      <td>2</td>\n",
       "      <td>0</td>\n",
       "      <td>1</td>\n",
       "      <td>0</td>\n",
       "      <td>0</td>\n",
       "      <td>1</td>\n",
       "      <td>0</td>\n",
       "      <td>1</td>\n",
       "    </tr>\n",
       "    <tr>\n",
       "      <th>2</th>\n",
       "      <td>0</td>\n",
       "      <td>1</td>\n",
       "      <td>1</td>\n",
       "      <td>0</td>\n",
       "      <td>0</td>\n",
       "      <td>1</td>\n",
       "      <td>1</td>\n",
       "      <td>1</td>\n",
       "      <td>2</td>\n",
       "      <td>0</td>\n",
       "      <td>0</td>\n",
       "      <td>0</td>\n",
       "      <td>0</td>\n",
       "      <td>0</td>\n",
       "      <td>0</td>\n",
       "      <td>0</td>\n",
       "    </tr>\n",
       "  </tbody>\n",
       "</table>\n",
       "</div>"
      ],
      "text/plain": [
       "   al  alcalde  barco  caliente  calzado  capitán  ciudad  como  es  frío  \\\n",
       "0   0        0      0         1        0        0       0     1   1     1   \n",
       "1   1        0      0         0        1        0       0     1   2     0   \n",
       "2   0        1      1         0        0        1       1     1   2     0   \n",
       "\n",
       "   guante  la  luz  mano  oscuridad  pie  \n",
       "0       0   1    1     0          1    0  \n",
       "1       1   0    0     1          0    1  \n",
       "2       0   0    0     0          0    0  "
      ]
     },
     "execution_count": 14,
     "metadata": {},
     "output_type": "execute_result"
    }
   ],
   "source": [
    "import pandas as pd\n",
    "pd.DataFrame(rtdo.toarray(), columns=vector.get_feature_names())"
   ]
  },
  {
   "cell_type": "markdown",
   "metadata": {},
   "source": [
    "<h2>¡¡¡Salud e Inteligencia Artificial!!! 💪💪💪</h2>"
   ]
  },
  {
   "cell_type": "code",
   "execution_count": null,
   "metadata": {},
   "outputs": [],
   "source": []
  }
 ],
 "metadata": {
  "kernelspec": {
   "display_name": "Python 3 (ipykernel)",
   "language": "python",
   "name": "python3"
  },
  "language_info": {
   "codemirror_mode": {
    "name": "ipython",
    "version": 3
   },
   "file_extension": ".py",
   "mimetype": "text/x-python",
   "name": "python",
   "nbconvert_exporter": "python",
   "pygments_lexer": "ipython3",
   "version": "3.9.7"
  }
 },
 "nbformat": 4,
 "nbformat_minor": 4
}
