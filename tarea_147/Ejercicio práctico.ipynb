{
 "cells": [
  {
   "cell_type": "markdown",
   "metadata": {},
   "source": [
    "### Ejercicio SVR"
   ]
  },
  {
   "cell_type": "markdown",
   "metadata": {},
   "source": [
    "#### Utilizando los modelos de regresión vistos hasta ahora (lineal, polinomial y SVR), genera el modelo que mejor se adapte a los datos adjuntos. La pregunta objetivo es: ¿Cuál es la longitud del pez bluegill en función de su edad?\n"
   ]
  },
  {
   "cell_type": "markdown",
   "metadata": {},
   "source": [
    "#### En 1981, 78 diferentes peces bluegills fueron aleatoriamente caracterizados según su longitud y edad de un lago de Minnesota. Los investigadores midieron y grabaron los datos que se adjuntan. "
   ]
  },
  {
   "cell_type": "code",
   "execution_count": 1,
   "metadata": {},
   "outputs": [],
   "source": [
    "import numpy as np\n",
    "import pandas as pd\n",
    "import matplotlib.pyplot as plt\n",
    "from sklearn.model_selection import train_test_split\n",
    "from sklearn.linear_model import LinearRegression\n",
    "from sklearn.metrics import mean_squared_error, r2_score\n",
    "from sklearn.preprocessing import PolynomialFeatures\n",
    "from sklearn.model_selection import GridSearchCV\n"
   ]
  },
  {
   "cell_type": "markdown",
   "metadata": {},
   "source": [
    "Abrimos el archivo de datos"
   ]
  },
  {
   "cell_type": "code",
   "execution_count": 2,
   "metadata": {
    "scrolled": true
   },
   "outputs": [
    {
     "name": "stderr",
     "output_type": "stream",
     "text": [
      "C:\\ProgramData\\Anaconda3\\lib\\site-packages\\pandas\\util\\_decorators.py:311: ParserWarning: Falling back to the 'python' engine because the 'c' engine does not support regex separators (separators > 1 char and different from '\\s+' are interpreted as regex); you can avoid this warning by specifying engine='python'.\n",
      "  return func(*args, **kwargs)\n"
     ]
    }
   ],
   "source": [
    "datos = pd.read_csv(\"Datos mojarra americana .txt\", sep = \"\\s\")"
   ]
  },
  {
   "cell_type": "code",
   "execution_count": 3,
   "metadata": {},
   "outputs": [
    {
     "data": {
      "text/html": [
       "<div>\n",
       "<style scoped>\n",
       "    .dataframe tbody tr th:only-of-type {\n",
       "        vertical-align: middle;\n",
       "    }\n",
       "\n",
       "    .dataframe tbody tr th {\n",
       "        vertical-align: top;\n",
       "    }\n",
       "\n",
       "    .dataframe thead th {\n",
       "        text-align: right;\n",
       "    }\n",
       "</style>\n",
       "<table border=\"1\" class=\"dataframe\">\n",
       "  <thead>\n",
       "    <tr style=\"text-align: right;\">\n",
       "      <th></th>\n",
       "      <th>age</th>\n",
       "      <th>length</th>\n",
       "    </tr>\n",
       "  </thead>\n",
       "  <tbody>\n",
       "    <tr>\n",
       "      <th>0</th>\n",
       "      <td>1</td>\n",
       "      <td>67</td>\n",
       "    </tr>\n",
       "    <tr>\n",
       "      <th>1</th>\n",
       "      <td>1</td>\n",
       "      <td>62</td>\n",
       "    </tr>\n",
       "    <tr>\n",
       "      <th>2</th>\n",
       "      <td>2</td>\n",
       "      <td>109</td>\n",
       "    </tr>\n",
       "    <tr>\n",
       "      <th>3</th>\n",
       "      <td>2</td>\n",
       "      <td>83</td>\n",
       "    </tr>\n",
       "    <tr>\n",
       "      <th>4</th>\n",
       "      <td>2</td>\n",
       "      <td>91</td>\n",
       "    </tr>\n",
       "  </tbody>\n",
       "</table>\n",
       "</div>"
      ],
      "text/plain": [
       "   age  length\n",
       "0    1      67\n",
       "1    1      62\n",
       "2    2     109\n",
       "3    2      83\n",
       "4    2      91"
      ]
     },
     "execution_count": 3,
     "metadata": {},
     "output_type": "execute_result"
    }
   ],
   "source": [
    "datos.head()"
   ]
  },
  {
   "cell_type": "code",
   "execution_count": 4,
   "metadata": {},
   "outputs": [
    {
     "data": {
      "text/html": [
       "<div>\n",
       "<style scoped>\n",
       "    .dataframe tbody tr th:only-of-type {\n",
       "        vertical-align: middle;\n",
       "    }\n",
       "\n",
       "    .dataframe tbody tr th {\n",
       "        vertical-align: top;\n",
       "    }\n",
       "\n",
       "    .dataframe thead th {\n",
       "        text-align: right;\n",
       "    }\n",
       "</style>\n",
       "<table border=\"1\" class=\"dataframe\">\n",
       "  <thead>\n",
       "    <tr style=\"text-align: right;\">\n",
       "      <th></th>\n",
       "      <th>age</th>\n",
       "      <th>length</th>\n",
       "    </tr>\n",
       "  </thead>\n",
       "  <tbody>\n",
       "    <tr>\n",
       "      <th>count</th>\n",
       "      <td>78.000000</td>\n",
       "      <td>78.000000</td>\n",
       "    </tr>\n",
       "    <tr>\n",
       "      <th>mean</th>\n",
       "      <td>3.628205</td>\n",
       "      <td>143.602564</td>\n",
       "    </tr>\n",
       "    <tr>\n",
       "      <th>std</th>\n",
       "      <td>0.927347</td>\n",
       "      <td>24.136699</td>\n",
       "    </tr>\n",
       "    <tr>\n",
       "      <th>min</th>\n",
       "      <td>1.000000</td>\n",
       "      <td>62.000000</td>\n",
       "    </tr>\n",
       "    <tr>\n",
       "      <th>25%</th>\n",
       "      <td>3.000000</td>\n",
       "      <td>137.250000</td>\n",
       "    </tr>\n",
       "    <tr>\n",
       "      <th>50%</th>\n",
       "      <td>4.000000</td>\n",
       "      <td>150.000000</td>\n",
       "    </tr>\n",
       "    <tr>\n",
       "      <th>75%</th>\n",
       "      <td>4.000000</td>\n",
       "      <td>160.000000</td>\n",
       "    </tr>\n",
       "    <tr>\n",
       "      <th>max</th>\n",
       "      <td>6.000000</td>\n",
       "      <td>188.000000</td>\n",
       "    </tr>\n",
       "  </tbody>\n",
       "</table>\n",
       "</div>"
      ],
      "text/plain": [
       "             age      length\n",
       "count  78.000000   78.000000\n",
       "mean    3.628205  143.602564\n",
       "std     0.927347   24.136699\n",
       "min     1.000000   62.000000\n",
       "25%     3.000000  137.250000\n",
       "50%     4.000000  150.000000\n",
       "75%     4.000000  160.000000\n",
       "max     6.000000  188.000000"
      ]
     },
     "execution_count": 4,
     "metadata": {},
     "output_type": "execute_result"
    }
   ],
   "source": [
    "datos.describe()"
   ]
  },
  {
   "cell_type": "code",
   "execution_count": 5,
   "metadata": {
    "scrolled": true
   },
   "outputs": [
    {
     "name": "stdout",
     "output_type": "stream",
     "text": [
      "<class 'pandas.core.frame.DataFrame'>\n",
      "RangeIndex: 78 entries, 0 to 77\n",
      "Data columns (total 2 columns):\n",
      " #   Column  Non-Null Count  Dtype\n",
      "---  ------  --------------  -----\n",
      " 0   age     78 non-null     int64\n",
      " 1   length  78 non-null     int64\n",
      "dtypes: int64(2)\n",
      "memory usage: 1.3 KB\n"
     ]
    }
   ],
   "source": [
    "datos.info()"
   ]
  },
  {
   "cell_type": "markdown",
   "metadata": {},
   "source": [
    "Graficamos los datos"
   ]
  },
  {
   "cell_type": "code",
   "execution_count": 6,
   "metadata": {
    "scrolled": true
   },
   "outputs": [
    {
     "data": {
      "image/png": "[encoded data removed]",
      "text/plain": [
       "<Figure size 432x288 with 1 Axes>"
      ]
     },
     "metadata": {
      "needs_background": "light"
     },
     "output_type": "display_data"
    }
   ],
   "source": [
    "x = datos[\"age\"]\n",
    "y = datos[\"length\"]\n",
    "\n",
    "plt.scatter(x, y)\n",
    "plt.xlabel(\"edad\")\n",
    "plt.ylabel(\"longitud\")\n",
    "plt.show()"
   ]
  },
  {
   "cell_type": "markdown",
   "metadata": {},
   "source": [
    "<div style=\"background-color: rgb(100, 80, 140)\">\n",
    "<h1 style=\"color: rgb(255, 255, 255);padding: 20px;font-weight:bold;font-size:22px;\"> Creación Modelos Linear Regression y Polinomial Regression\n",
    "</h1>\n",
    "</div>"
   ]
  },
  {
   "cell_type": "markdown",
   "metadata": {},
   "source": [
    "### Modelo de regresión lineal"
   ]
  },
  {
   "cell_type": "markdown",
   "metadata": {},
   "source": [
    "Primero dividivos los datos en los set de training y test usando la función test_train_split de s"
   ]
  },
  {
   "cell_type": "code",
   "execution_count": 7,
   "metadata": {
    "scrolled": true
   },
   "outputs": [],
   "source": [
    "X = datos[\"age\"].to_numpy().reshape(-1,1)\n",
    "y = datos[\"length\"].to_numpy()"
   ]
  },
  {
   "cell_type": "code",
   "execution_count": 8,
   "metadata": {},
   "outputs": [],
   "source": [
    "#Un 80% de los datos es de entrenamiento y el 20% restante de test\n",
    "x_train, x_test, y_train, y_test = train_test_split(X, y, test_size=0.2, random_state=2)"
   ]
  },
  {
   "cell_type": "markdown",
   "metadata": {},
   "source": [
    "Creamos el modelo"
   ]
  },
  {
   "cell_type": "code",
   "execution_count": 9,
   "metadata": {},
   "outputs": [],
   "source": [
    "lr = LinearRegression() # Creamos el objeto de Regresión Linear"
   ]
  },
  {
   "cell_type": "code",
   "execution_count": 10,
   "metadata": {},
   "outputs": [
    {
     "data": {
      "text/plain": [
       "(array([22.52808219]), 61.83493150684927)"
      ]
     },
     "execution_count": 10,
     "metadata": {},
     "output_type": "execute_result"
    }
   ],
   "source": [
    "model = lr.fit(x_train, y_train) # Entrenamos nuestro modelo\n",
    "model.coef_, model.intercept_ # Obtenemos el coeficiente de regresión y el punto de corte con el eje y"
   ]
  },
  {
   "cell_type": "markdown",
   "metadata": {},
   "source": [
    "En nuestro caso la ecuación calculada sería:\n",
    "\n",
    "y = 22.52808219x + 61.83493150684927"
   ]
  },
  {
   "cell_type": "code",
   "execution_count": 11,
   "metadata": {},
   "outputs": [],
   "source": [
    "y_predicted = lr.predict(x_train) #Usando la ecuación creada calculamos la variable de salida y para los datos de training"
   ]
  },
  {
   "cell_type": "markdown",
   "metadata": {},
   "source": [
    "#### Usamos ahora los valores del set test"
   ]
  },
  {
   "cell_type": "code",
   "execution_count": 12,
   "metadata": {},
   "outputs": [],
   "source": [
    "y_test_predicted = lr.predict(x_test)"
   ]
  },
  {
   "cell_type": "markdown",
   "metadata": {},
   "source": [
    "### Graficamos los datos"
   ]
  },
  {
   "cell_type": "code",
   "execution_count": 13,
   "metadata": {
    "scrolled": false
   },
   "outputs": [
    {
     "data": {
      "image/png": "[encoded data removed]",
      "text/plain": [
       "<Figure size 432x288 with 1 Axes>"
      ]
     },
     "metadata": {
      "needs_background": "light"
     },
     "output_type": "display_data"
    }
   ],
   "source": [
    "plt.scatter(x_train, y_train, color = \"b\")\n",
    "plt.scatter(x_test, y_test, color = \"g\")\n",
    "plt.plot(x_test, y_test_predicted, \"r\")\n",
    "plt.xlabel(\"edad\")\n",
    "plt.ylabel(\"longitud\")\n",
    "plt.show()"
   ]
  },
  {
   "cell_type": "code",
   "execution_count": 14,
   "metadata": {
    "scrolled": true
   },
   "outputs": [
    {
     "data": {
      "text/plain": [
       "12.675742030207651"
      ]
     },
     "execution_count": 14,
     "metadata": {},
     "output_type": "execute_result"
    }
   ],
   "source": [
    "rmse_test_lr = mean_squared_error (y_test, y_test_predicted, squared = False)\n",
    "rmse_test_lr"
   ]
  },
  {
   "cell_type": "code",
   "execution_count": 15,
   "metadata": {
    "scrolled": false
   },
   "outputs": [
    {
     "data": {
      "text/plain": [
       "0.7717642014194238"
      ]
     },
     "execution_count": 15,
     "metadata": {},
     "output_type": "execute_result"
    }
   ],
   "source": [
    "model_score_test_lr = model.score(x_test, y_test)\n",
    "model_score_test_lr"
   ]
  },
  {
   "cell_type": "code",
   "execution_count": 16,
   "metadata": {},
   "outputs": [
    {
     "data": {
      "text/plain": [
       "0.7717642014194238"
      ]
     },
     "execution_count": 16,
     "metadata": {},
     "output_type": "execute_result"
    }
   ],
   "source": [
    "r2_test_lr = r2_score (y_test, y_test_predicted)\n",
    "r2_test_lr"
   ]
  },
  {
   "cell_type": "markdown",
   "metadata": {},
   "source": [
    "### Probamos con un modelo de regresión polinomial"
   ]
  },
  {
   "cell_type": "markdown",
   "metadata": {},
   "source": [
    "Primero debemos definir el grado del polinomio, para ello hemos importado de la librería scikit learn las características polinomiales o PolynomialFeatures, y procedemos a definir el grado. Empezamos con una función cuadrática."
   ]
  },
  {
   "cell_type": "code",
   "execution_count": 17,
   "metadata": {},
   "outputs": [],
   "source": [
    "poly_2 = PolynomialFeatures (2)"
   ]
  },
  {
   "cell_type": "markdown",
   "metadata": {},
   "source": [
    "Definido el grado se procede a transformar las características de existentes, en este caso tanto x_train como x_test en características de mayor grado, para ello utilizamos el polinomio definido anteriormente y lo entrenamos a estos datos"
   ]
  },
  {
   "cell_type": "code",
   "execution_count": 18,
   "metadata": {},
   "outputs": [],
   "source": [
    "x_train_poly = poly_2.fit_transform(x_train)"
   ]
  },
  {
   "cell_type": "markdown",
   "metadata": {},
   "source": [
    "Definimos el algoritmo en nuestro modelo, que en este caso sería LinearRegression, con esta misma instrucción se puede calcular el modelo de Regresión Polinomial."
   ]
  },
  {
   "cell_type": "code",
   "execution_count": 19,
   "metadata": {
    "scrolled": true
   },
   "outputs": [
    {
     "data": {
      "text/plain": [
       "(array([ 0.        , 55.00027105, -4.85354174]), 11.4777737621975)"
      ]
     },
     "execution_count": 19,
     "metadata": {},
     "output_type": "execute_result"
    }
   ],
   "source": [
    "model2 = lr.fit(x_train_poly, y_train) # Entrenamos nuestro modelo\n",
    "model2.coef_, model2.intercept_ # Obtenemoslos coeficientes y el punto de corte con el eje y"
   ]
  },
  {
   "cell_type": "markdown",
   "metadata": {},
   "source": [
    "En este caso la ecuación quedaría:\n",
    "y = 55.00027105 x -4.85354174 x2 - 11.4777737621975"
   ]
  },
  {
   "cell_type": "code",
   "execution_count": 20,
   "metadata": {},
   "outputs": [],
   "source": [
    "y_train_poly_predicted = model2.predict (x_train_poly)"
   ]
  },
  {
   "cell_type": "markdown",
   "metadata": {},
   "source": [
    "Probamos la ecuación con los valores del set test. Primero transformamos los datos de x"
   ]
  },
  {
   "cell_type": "code",
   "execution_count": 21,
   "metadata": {},
   "outputs": [],
   "source": [
    "x_test_poly = poly_2.fit_transform(x_test)"
   ]
  },
  {
   "cell_type": "code",
   "execution_count": 22,
   "metadata": {
    "scrolled": true
   },
   "outputs": [],
   "source": [
    "y_test_poly_predicted = model2.predict(x_test_poly)"
   ]
  },
  {
   "cell_type": "markdown",
   "metadata": {},
   "source": [
    "Calculamos RMSE y r2 para estos datos"
   ]
  },
  {
   "cell_type": "code",
   "execution_count": 23,
   "metadata": {},
   "outputs": [
    {
     "data": {
      "text/plain": [
       "10.510839421666384"
      ]
     },
     "execution_count": 23,
     "metadata": {},
     "output_type": "execute_result"
    }
   ],
   "source": [
    "rmse_test_poly2 = mean_squared_error(y_test, y_test_poly_predicted, squared = False)\n",
    "rmse_test_poly2"
   ]
  },
  {
   "cell_type": "code",
   "execution_count": 24,
   "metadata": {},
   "outputs": [
    {
     "data": {
      "text/plain": [
       "0.8430679014032718"
      ]
     },
     "execution_count": 24,
     "metadata": {},
     "output_type": "execute_result"
    }
   ],
   "source": [
    "r2_test_poly2 = r2_score (y_test, y_test_poly_predicted)\n",
    "r2_test_poly2"
   ]
  },
  {
   "cell_type": "raw",
   "metadata": {},
   "source": [
    "Graficamos los datos de test y training frenta al modelo de regresión polinomial"
   ]
  },
  {
   "cell_type": "markdown",
   "metadata": {},
   "source": [
    "Usando la ecuación que tenemos (y = 55.00027105 x -4.85354174 x2 - 11.4777737621975) creamos una linea con 100 puntos, que usaremos para superponerla en la gráfica junto con nuestros datos"
   ]
  },
  {
   "cell_type": "code",
   "execution_count": 25,
   "metadata": {
    "scrolled": true
   },
   "outputs": [],
   "source": [
    "puntos = np.linspace(1, 6, 100).reshape (-1, 1)\n",
    "puntos_poly = poly_2.fit_transform (puntos)\n",
    "y_puntos_poly = model2.predict (puntos_poly)"
   ]
  },
  {
   "cell_type": "code",
   "execution_count": 26,
   "metadata": {
    "scrolled": false
   },
   "outputs": [
    {
     "data": {
      "image/png": "[encoded data removed]",
      "text/plain": [
       "<Figure size 432x288 with 1 Axes>"
      ]
     },
     "metadata": {
      "needs_background": "light"
     },
     "output_type": "display_data"
    }
   ],
   "source": [
    "plt.scatter(x_train, y_train, color = \"g\")\n",
    "plt.scatter (x_test, y_test, color = \"b\")\n",
    "plt.plot (puntos, y_puntos_poly, \"r\")\n",
    "plt.xlabel(\"edad\")\n",
    "plt.ylabel(\"longitud\")\n",
    "plt.show()"
   ]
  },
  {
   "cell_type": "markdown",
   "metadata": {},
   "source": [
    "Si queremos comparar las métricas de los dos modelos con los datos de test"
   ]
  },
  {
   "cell_type": "markdown",
   "metadata": {},
   "source": [
    "Podemos crear un modelo con un polinomio de mayor grada siguiendo los mismos pasos"
   ]
  },
  {
   "cell_type": "code",
   "execution_count": 27,
   "metadata": {},
   "outputs": [],
   "source": [
    "poly_3 = PolynomialFeatures (3)"
   ]
  },
  {
   "cell_type": "code",
   "execution_count": 28,
   "metadata": {},
   "outputs": [],
   "source": [
    "x_train_poly3 = poly_3.fit_transform(x_train)"
   ]
  },
  {
   "cell_type": "code",
   "execution_count": 29,
   "metadata": {},
   "outputs": [],
   "source": [
    "model3 = lr.fit(x_train_poly3, y_train)"
   ]
  },
  {
   "cell_type": "code",
   "execution_count": 30,
   "metadata": {},
   "outputs": [],
   "source": [
    "x_test_poly3 = poly_3.fit_transform (x_test)"
   ]
  },
  {
   "cell_type": "code",
   "execution_count": 31,
   "metadata": {},
   "outputs": [],
   "source": [
    "puntos_poly3 = poly_3.fit_transform (puntos)\n",
    "y_puntos_poly3 = model3.predict (puntos_poly3)"
   ]
  },
  {
   "cell_type": "code",
   "execution_count": 32,
   "metadata": {},
   "outputs": [
    {
     "data": {
      "image/png": "[encoded data removed]",
      "text/plain": [
       "<Figure size 432x288 with 1 Axes>"
      ]
     },
     "metadata": {
      "needs_background": "light"
     },
     "output_type": "display_data"
    }
   ],
   "source": [
    "plt.scatter(x_train, y_train, color = \"g\")\n",
    "plt.scatter (x_test, y_test, color = \"b\")\n",
    "plt.plot (puntos, y_puntos_poly3, \"r\")\n",
    "plt.xlabel(\"edad\")\n",
    "plt.ylabel(\"longitud\")\n",
    "plt.show()"
   ]
  },
  {
   "cell_type": "code",
   "execution_count": 33,
   "metadata": {},
   "outputs": [],
   "source": [
    "y_test_poly3 = model3.predict(x_test_poly3)"
   ]
  },
  {
   "cell_type": "code",
   "execution_count": 34,
   "metadata": {},
   "outputs": [
    {
     "data": {
      "text/plain": [
       "10.594325981745554"
      ]
     },
     "execution_count": 34,
     "metadata": {},
     "output_type": "execute_result"
    }
   ],
   "source": [
    "rmse_test_poly3 = mean_squared_error (y_test, y_test_poly3, squared = False)\n",
    "rmse_test_poly3"
   ]
  },
  {
   "cell_type": "code",
   "execution_count": 35,
   "metadata": {},
   "outputs": [],
   "source": [
    "r2_test_poly3 = r2_score (y_test, y_test_poly3)"
   ]
  },
  {
   "cell_type": "code",
   "execution_count": 36,
   "metadata": {
    "scrolled": false
   },
   "outputs": [
    {
     "data": {
      "text/html": [
       "<div>\n",
       "<style scoped>\n",
       "    .dataframe tbody tr th:only-of-type {\n",
       "        vertical-align: middle;\n",
       "    }\n",
       "\n",
       "    .dataframe tbody tr th {\n",
       "        vertical-align: top;\n",
       "    }\n",
       "\n",
       "    .dataframe thead th {\n",
       "        text-align: right;\n",
       "    }\n",
       "</style>\n",
       "<table border=\"1\" class=\"dataframe\">\n",
       "  <thead>\n",
       "    <tr style=\"text-align: right;\">\n",
       "      <th></th>\n",
       "      <th>Test_RSME</th>\n",
       "      <th>Test_r2</th>\n",
       "    </tr>\n",
       "  </thead>\n",
       "  <tbody>\n",
       "    <tr>\n",
       "      <th>Regresión lineal</th>\n",
       "      <td>12.675742</td>\n",
       "      <td>0.771764</td>\n",
       "    </tr>\n",
       "    <tr>\n",
       "      <th>Regresión polinómica grado 2</th>\n",
       "      <td>10.510839</td>\n",
       "      <td>0.843068</td>\n",
       "    </tr>\n",
       "    <tr>\n",
       "      <th>Regresión polinómica grado 3</th>\n",
       "      <td>10.594326</td>\n",
       "      <td>0.840565</td>\n",
       "    </tr>\n",
       "  </tbody>\n",
       "</table>\n",
       "</div>"
      ],
      "text/plain": [
       "                              Test_RSME   Test_r2\n",
       "Regresión lineal              12.675742  0.771764\n",
       "Regresión polinómica grado 2  10.510839  0.843068\n",
       "Regresión polinómica grado 3  10.594326  0.840565"
      ]
     },
     "execution_count": 36,
     "metadata": {},
     "output_type": "execute_result"
    }
   ],
   "source": [
    "resultados = pd.DataFrame( {\"Test_RSME\": [rmse_test_lr, rmse_test_poly2, rmse_test_poly3], \n",
    "                            \"Test_r2\": [r2_test_lr, r2_test_poly2, r2_test_poly3]}, \n",
    "                          index = [\"Regresión lineal\", \"Regresión polinómica grado 2\", \"Regresión polinómica grado 3\"])\n",
    "resultados"
   ]
  },
  {
   "cell_type": "markdown",
   "metadata": {},
   "source": [
    "## Resultado"
   ]
  },
  {
   "cell_type": "markdown",
   "metadata": {},
   "source": [
    "Si prestamos atención a los parámetros RSME y R2 para los tres modelos vemos que la RMSE más baja y la R2 más alta son para el modelo de regresión polinómica de grado 2. Por lo que si queremos estimar la longitud de un pez atendiendo a su edad aplicaríamos la fórmula:\n",
    "\n",
    "y = 55.00027105 x -4.85354174 x2 - 11.4777737621975\n",
    "\n",
    "longitud = 55.00027105 edad -4.85354174 edad2 - 11.4777737621975\n"
   ]
  },
  {
   "cell_type": "markdown",
   "metadata": {},
   "source": [
    "## Nota"
   ]
  },
  {
   "cell_type": "markdown",
   "metadata": {},
   "source": [
    "Hay que tener en cuenta que si cambiamos los datos de training y test este resultado puede verse afectado, ya que el dataset es muy pequeño. Habría que usar una validación cruzada para estimar mejor el rendimiento del modelo."
   ]
  },
  {
   "cell_type": "markdown",
   "metadata": {},
   "source": [
    "<div style=\"background-color: rgb(100, 80, 140)\">\n",
    "<h1 style=\"color: rgb(255, 255, 255);padding: 20px;font-weight:bold;font-size:22px;\"> Creación Modelos Support Vector Regressor\n",
    "</h1>\n",
    "</div>"
   ]
  },
  {
   "cell_type": "markdown",
   "metadata": {},
   "source": [
    "## Comenzamos usando los parámetros por defecto"
   ]
  },
  {
   "attachments": {
    "image.png": {
     "image/png": "[encoded data removed]"
    }
   },
   "cell_type": "markdown",
   "metadata": {},
   "source": [
    "![image.png](attachment:image.png)"
   ]
  },
  {
   "cell_type": "markdown",
   "metadata": {},
   "source": [
    "### Con el modelo Support Vector Regressor (SVR) y el kernel \"rbf\""
   ]
  },
  {
   "cell_type": "code",
   "execution_count": 37,
   "metadata": {},
   "outputs": [],
   "source": [
    "from sklearn.svm import SVR"
   ]
  },
  {
   "cell_type": "code",
   "execution_count": 38,
   "metadata": {},
   "outputs": [],
   "source": [
    "model_svr_rbf = SVR (kernel=\"rbf\") # Elegimos al azar unos valores para , C=100, gamma= 0.1, epsilon= 0.1"
   ]
  },
  {
   "cell_type": "code",
   "execution_count": 39,
   "metadata": {},
   "outputs": [
    {
     "data": {
      "text/plain": [
       "SVR()"
      ]
     },
     "execution_count": 39,
     "metadata": {},
     "output_type": "execute_result"
    }
   ],
   "source": [
    "model_svr_rbf.fit (x_train, y_train) "
   ]
  },
  {
   "cell_type": "code",
   "execution_count": 40,
   "metadata": {},
   "outputs": [],
   "source": [
    "y_test_svr_rbf_pred = model_svr_rbf.predict (x_test)"
   ]
  },
  {
   "cell_type": "code",
   "execution_count": 41,
   "metadata": {
    "scrolled": true
   },
   "outputs": [
    {
     "data": {
      "image/png": "[encoded data removed]",
      "text/plain": [
       "<Figure size 432x288 with 1 Axes>"
      ]
     },
     "metadata": {
      "needs_background": "light"
     },
     "output_type": "display_data"
    }
   ],
   "source": [
    "plt.scatter(x_train, y_train, color = \"g\")\n",
    "plt.scatter(x_test, y_test, color = \"b\")\n",
    "puntos_svr_rbf = model_svr_rbf.predict (puntos)\n",
    "plt.plot(puntos, puntos_svr_rbf, \"r\")\n",
    "plt.xlabel(\"edad\")\n",
    "plt.ylabel(\"longitud\")\n",
    "plt.show()"
   ]
  },
  {
   "cell_type": "code",
   "execution_count": 42,
   "metadata": {},
   "outputs": [
    {
     "data": {
      "text/plain": [
       "24.593804491192845"
      ]
     },
     "execution_count": 42,
     "metadata": {},
     "output_type": "execute_result"
    }
   ],
   "source": [
    "rmse_svr_rbf = mean_squared_error (y_test, y_test_svr_rbf_pred, squared = False)\n",
    "rmse_svr_rbf"
   ]
  },
  {
   "cell_type": "code",
   "execution_count": 43,
   "metadata": {},
   "outputs": [
    {
     "data": {
      "text/plain": [
       "0.14081158498579271"
      ]
     },
     "execution_count": 43,
     "metadata": {},
     "output_type": "execute_result"
    }
   ],
   "source": [
    "r2_score_svr_rbf = r2_score (y_test, y_test_svr_rbf_pred)\n",
    "r2_score_svr_rbf"
   ]
  },
  {
   "cell_type": "markdown",
   "metadata": {},
   "source": [
    "### Probamos el modelo SVR con el kernel \"linear\""
   ]
  },
  {
   "cell_type": "code",
   "execution_count": 44,
   "metadata": {},
   "outputs": [],
   "source": [
    "model_svr_linear = SVR (kernel=\"linear\")  # Elegimos al azar un valor para C=100 y gamma = auto"
   ]
  },
  {
   "cell_type": "code",
   "execution_count": 45,
   "metadata": {},
   "outputs": [
    {
     "data": {
      "text/plain": [
       "SVR(kernel='linear')"
      ]
     },
     "execution_count": 45,
     "metadata": {},
     "output_type": "execute_result"
    }
   ],
   "source": [
    "model_svr_linear.fit (x_train, y_train)"
   ]
  },
  {
   "cell_type": "code",
   "execution_count": 46,
   "metadata": {},
   "outputs": [],
   "source": [
    "y_test_svr_linear_pred = model_svr_linear.predict (x_test)"
   ]
  },
  {
   "cell_type": "code",
   "execution_count": 47,
   "metadata": {
    "scrolled": false
   },
   "outputs": [
    {
     "data": {
      "image/png": "[encoded data removed]",
      "text/plain": [
       "<Figure size 432x288 with 1 Axes>"
      ]
     },
     "metadata": {
      "needs_background": "light"
     },
     "output_type": "display_data"
    }
   ],
   "source": [
    "plt.scatter(x_train, y_train, color = \"g\")\n",
    "plt.scatter(x_test, y_test, color = \"b\")\n",
    "puntos_svr_linear = model_svr_linear.predict (puntos)\n",
    "plt.plot(puntos, puntos_svr_linear, \"r\")\n",
    "plt.xlabel(\"edad\")\n",
    "plt.ylabel(\"longitud\")\n",
    "plt.show()"
   ]
  },
  {
   "cell_type": "code",
   "execution_count": 48,
   "metadata": {
    "scrolled": true
   },
   "outputs": [
    {
     "data": {
      "text/plain": [
       "15.43374954442374"
      ]
     },
     "execution_count": 48,
     "metadata": {},
     "output_type": "execute_result"
    }
   ],
   "source": [
    "rmse_svr_linear = mean_squared_error (y_test, y_test_svr_linear_pred, squared = False )\n",
    "rmse_svr_linear"
   ]
  },
  {
   "cell_type": "code",
   "execution_count": 49,
   "metadata": {},
   "outputs": [
    {
     "data": {
      "text/plain": [
       "0.6616393297081344"
      ]
     },
     "execution_count": 49,
     "metadata": {},
     "output_type": "execute_result"
    }
   ],
   "source": [
    "r2_score_svr_linear = r2_score (y_test, y_test_svr_linear_pred)\n",
    "r2_score_svr_linear"
   ]
  },
  {
   "cell_type": "markdown",
   "metadata": {},
   "source": [
    "### Probamos con el kernel \"poly\" de grado 3"
   ]
  },
  {
   "cell_type": "code",
   "execution_count": 50,
   "metadata": {},
   "outputs": [],
   "source": [
    "model_svr_poly = SVR (kernel = \"poly\", degree = 3)# Elegimos unos valores para el modelo C=100, gamma=\"auto\", degree=3, epsilon=0.1, coef0=1"
   ]
  },
  {
   "cell_type": "code",
   "execution_count": 51,
   "metadata": {},
   "outputs": [
    {
     "data": {
      "text/plain": [
       "SVR(kernel='poly')"
      ]
     },
     "execution_count": 51,
     "metadata": {},
     "output_type": "execute_result"
    }
   ],
   "source": [
    "model_svr_poly.fit (x_train, y_train)"
   ]
  },
  {
   "cell_type": "code",
   "execution_count": 52,
   "metadata": {},
   "outputs": [],
   "source": [
    "y_test_svr_poly_pred = model_svr_poly.predict (x_test)"
   ]
  },
  {
   "cell_type": "code",
   "execution_count": 53,
   "metadata": {
    "scrolled": true
   },
   "outputs": [
    {
     "data": {
      "image/png": "[encoded data removed]",
      "text/plain": [
       "<Figure size 432x288 with 1 Axes>"
      ]
     },
     "metadata": {
      "needs_background": "light"
     },
     "output_type": "display_data"
    }
   ],
   "source": [
    "plt.scatter(x_train, y_train, color = \"g\")\n",
    "plt.scatter(x_test, y_test, color = \"b\")\n",
    "puntos_svr_poly = model_svr_poly.predict (puntos)\n",
    "plt.plot(puntos, puntos_svr_poly, \"r\")\n",
    "plt.xlabel(\"edad\")\n",
    "plt.ylabel(\"longitud\")\n",
    "plt.show()"
   ]
  },
  {
   "cell_type": "code",
   "execution_count": 54,
   "metadata": {
    "scrolled": true
   },
   "outputs": [
    {
     "data": {
      "text/plain": [
       "18.685191740913613"
      ]
     },
     "execution_count": 54,
     "metadata": {},
     "output_type": "execute_result"
    }
   ],
   "source": [
    "rmse_svr_poly = mean_squared_error (y_test, y_test_svr_poly_pred, squared = False )\n",
    "rmse_svr_poly"
   ]
  },
  {
   "cell_type": "code",
   "execution_count": 55,
   "metadata": {},
   "outputs": [
    {
     "data": {
      "text/plain": [
       "0.5040566200141783"
      ]
     },
     "execution_count": 55,
     "metadata": {},
     "output_type": "execute_result"
    }
   ],
   "source": [
    "r2_score_svr_poly = r2_score (y_test, y_test_svr_poly_pred)\n",
    "r2_score_svr_poly"
   ]
  },
  {
   "cell_type": "markdown",
   "metadata": {},
   "source": [
    "### Si usamos GridSearchCV para estimar los hiperparámetros"
   ]
  },
  {
   "cell_type": "code",
   "execution_count": 56,
   "metadata": {},
   "outputs": [],
   "source": [
    "grid = GridSearchCV (estimator = SVR(kernel = \"rbf\"), \n",
    "                     param_grid = { \"C\": [1,  10, 100, 1000],\"epsilon\" : [0.001, 0.01, 0.1, 1],\"gamma\" : [0.001, 0.01, 0.1, 1]},\n",
    "                     cv = 5,\n",
    "                     scoring = \"neg_mean_squared_error\")\n"
   ]
  },
  {
   "cell_type": "code",
   "execution_count": 57,
   "metadata": {
    "scrolled": true
   },
   "outputs": [
    {
     "name": "stdout",
     "output_type": "stream",
     "text": [
      "{'C': 1000, 'epsilon': 1, 'gamma': 0.01}\n"
     ]
    }
   ],
   "source": [
    "svr_rbf_grid = grid.fit(x_train, y_train)\n",
    "\n",
    "print (grid.best_params_)"
   ]
  },
  {
   "cell_type": "code",
   "execution_count": 58,
   "metadata": {
    "scrolled": true
   },
   "outputs": [],
   "source": [
    "y_test_rbf_grid_pred = svr_rbf_grid.predict(x_test)"
   ]
  },
  {
   "cell_type": "code",
   "execution_count": null,
   "metadata": {},
   "outputs": [],
   "source": []
  },
  {
   "cell_type": "code",
   "execution_count": 59,
   "metadata": {},
   "outputs": [
    {
     "data": {
      "image/png": "[encoded data removed]",
      "text/plain": [
       "<Figure size 432x288 with 1 Axes>"
      ]
     },
     "metadata": {
      "needs_background": "light"
     },
     "output_type": "display_data"
    }
   ],
   "source": [
    "plt.scatter(x_train, y_train, color = \"g\")\n",
    "plt.scatter(x_test, y_test, color = \"b\")\n",
    "puntos_rbf_grid = svr_rbf_grid.predict (puntos)\n",
    "plt.plot(puntos, puntos_rbf_grid, \"r\")\n",
    "plt.xlabel(\"edad\")\n",
    "plt.ylabel(\"longitud\")\n",
    "plt.show()"
   ]
  },
  {
   "cell_type": "code",
   "execution_count": 60,
   "metadata": {},
   "outputs": [
    {
     "data": {
      "text/plain": [
       "11.40944026684951"
      ]
     },
     "execution_count": 60,
     "metadata": {},
     "output_type": "execute_result"
    }
   ],
   "source": [
    "rmse_rbf_grid = mean_squared_error (y_test, y_test_rbf_grid_pred, squared = False)\n",
    "rmse_rbf_grid"
   ]
  },
  {
   "cell_type": "code",
   "execution_count": 61,
   "metadata": {},
   "outputs": [
    {
     "data": {
      "text/plain": [
       "0.8150877607151338"
      ]
     },
     "execution_count": 61,
     "metadata": {},
     "output_type": "execute_result"
    }
   ],
   "source": [
    "r2_score_rbf_grid = r2_score (y_test, y_test_rbf_grid_pred)\n",
    "r2_score_rbf_grid"
   ]
  },
  {
   "cell_type": "code",
   "execution_count": null,
   "metadata": {},
   "outputs": [],
   "source": []
  },
  {
   "cell_type": "markdown",
   "metadata": {},
   "source": [
    "### Probamos el modelo SVR con el kernel \"linear\" y GridSearchCV"
   ]
  },
  {
   "cell_type": "code",
   "execution_count": 62,
   "metadata": {},
   "outputs": [],
   "source": [
    "grid = GridSearchCV (estimator = SVR(kernel = \"linear\"), \n",
    "                     param_grid = { \"C\": [1,  10, 100, 1000]},\n",
    "                     cv = 5,\n",
    "                     scoring = \"neg_mean_squared_error\")"
   ]
  },
  {
   "cell_type": "code",
   "execution_count": 63,
   "metadata": {},
   "outputs": [
    {
     "name": "stdout",
     "output_type": "stream",
     "text": [
      "{'C': 10}\n"
     ]
    }
   ],
   "source": [
    "svr_linear_grid = grid.fit (x_train, y_train)\n",
    "print (svr_linear_grid.best_params_)"
   ]
  },
  {
   "cell_type": "code",
   "execution_count": 64,
   "metadata": {},
   "outputs": [],
   "source": [
    "y_test_linear_grid_pred = svr_linear_grid.predict (x_test)"
   ]
  },
  {
   "cell_type": "code",
   "execution_count": 65,
   "metadata": {},
   "outputs": [
    {
     "data": {
      "image/png": "[encoded data removed]",
      "text/plain": [
       "<Figure size 432x288 with 1 Axes>"
      ]
     },
     "metadata": {
      "needs_background": "light"
     },
     "output_type": "display_data"
    }
   ],
   "source": [
    "plt.scatter(x_train, y_train, color = \"g\")\n",
    "plt.scatter(x_test, y_test, color = \"b\")\n",
    "puntos_linear_grid = svr_linear_grid.predict (puntos)\n",
    "plt.plot(puntos, puntos_linear_grid, \"r\")\n",
    "plt.xlabel(\"edad\")\n",
    "plt.ylabel(\"longitud\")\n",
    "plt.show()"
   ]
  },
  {
   "cell_type": "code",
   "execution_count": 66,
   "metadata": {},
   "outputs": [
    {
     "data": {
      "text/plain": [
       "12.8170053054526"
      ]
     },
     "execution_count": 66,
     "metadata": {},
     "output_type": "execute_result"
    }
   ],
   "source": [
    "rmse_linear_grid = mean_squared_error (y_test, y_test_linear_grid_pred, squared = False)\n",
    "rmse_linear_grid"
   ]
  },
  {
   "cell_type": "code",
   "execution_count": 67,
   "metadata": {},
   "outputs": [
    {
     "data": {
      "text/plain": [
       "0.76664876262346"
      ]
     },
     "execution_count": 67,
     "metadata": {},
     "output_type": "execute_result"
    }
   ],
   "source": [
    "r2_linear_grid = r2_score (y_test, y_test_linear_grid_pred)\n",
    "r2_linear_grid"
   ]
  },
  {
   "cell_type": "code",
   "execution_count": null,
   "metadata": {},
   "outputs": [],
   "source": []
  },
  {
   "cell_type": "markdown",
   "metadata": {},
   "source": [
    "### Probamos el modelo SVR con el kernel \"poly\" y GridSearchCV"
   ]
  },
  {
   "cell_type": "code",
   "execution_count": 68,
   "metadata": {},
   "outputs": [],
   "source": [
    "grid = GridSearchCV (estimator = SVR(kernel = \"poly\", degree = 3),\n",
    "                     param_grid = { \"C\": [1,  10, 100, 1000], \"epsilon\" : [0.001, 0.01, 0.1, 1],\"gamma\" : [0.001, 0.01, 0.1, 1], \"coef0\" : [1] },\n",
    "                     cv = 5,\n",
    "                     scoring = \"neg_mean_squared_error\")\n"
   ]
  },
  {
   "cell_type": "code",
   "execution_count": 69,
   "metadata": {},
   "outputs": [
    {
     "name": "stdout",
     "output_type": "stream",
     "text": [
      "{'C': 100, 'coef0': 1, 'epsilon': 0.1, 'gamma': 1}\n"
     ]
    }
   ],
   "source": [
    "svr_poly_grid = grid.fit (x_train, y_train)\n",
    "print (svr_poly_grid.best_params_)"
   ]
  },
  {
   "cell_type": "code",
   "execution_count": 70,
   "metadata": {},
   "outputs": [],
   "source": [
    "y_test_poly_grid_pred = svr_poly_grid.predict (x_test)"
   ]
  },
  {
   "cell_type": "code",
   "execution_count": 71,
   "metadata": {
    "scrolled": true
   },
   "outputs": [
    {
     "data": {
      "image/png": "[encoded data removed]",
      "text/plain": [
       "<Figure size 432x288 with 1 Axes>"
      ]
     },
     "metadata": {
      "needs_background": "light"
     },
     "output_type": "display_data"
    }
   ],
   "source": [
    "plt.scatter(x_train, y_train, color = \"g\")\n",
    "plt.scatter(x_test, y_test, color = \"b\")\n",
    "puntos_svr_poly_grid = svr_poly_grid.predict (puntos)\n",
    "plt.plot(puntos, puntos_svr_poly_grid, \"r\")\n",
    "plt.xlabel(\"edad\")\n",
    "plt.ylabel(\"longitud\")\n",
    "plt.show()"
   ]
  },
  {
   "cell_type": "code",
   "execution_count": 72,
   "metadata": {},
   "outputs": [
    {
     "data": {
      "text/plain": [
       "10.906358627485817"
      ]
     },
     "execution_count": 72,
     "metadata": {},
     "output_type": "execute_result"
    }
   ],
   "source": [
    "rmse_poly_grid = mean_squared_error (y_test, y_test_poly_grid_pred, squared = False)\n",
    "rmse_poly_grid"
   ]
  },
  {
   "cell_type": "code",
   "execution_count": 73,
   "metadata": {},
   "outputs": [
    {
     "data": {
      "text/plain": [
       "0.8310350872328177"
      ]
     },
     "execution_count": 73,
     "metadata": {},
     "output_type": "execute_result"
    }
   ],
   "source": [
    "r2_poly_grid = r2_score (y_test, y_test_poly_grid_pred)\n",
    "r2_poly_grid"
   ]
  },
  {
   "cell_type": "code",
   "execution_count": 74,
   "metadata": {},
   "outputs": [
    {
     "data": {
      "text/html": [
       "<div>\n",
       "<style scoped>\n",
       "    .dataframe tbody tr th:only-of-type {\n",
       "        vertical-align: middle;\n",
       "    }\n",
       "\n",
       "    .dataframe tbody tr th {\n",
       "        vertical-align: top;\n",
       "    }\n",
       "\n",
       "    .dataframe thead th {\n",
       "        text-align: right;\n",
       "    }\n",
       "</style>\n",
       "<table border=\"1\" class=\"dataframe\">\n",
       "  <thead>\n",
       "    <tr style=\"text-align: right;\">\n",
       "      <th></th>\n",
       "      <th>RSME</th>\n",
       "      <th>R2</th>\n",
       "    </tr>\n",
       "  </thead>\n",
       "  <tbody>\n",
       "    <tr>\n",
       "      <th>Regresión lineal</th>\n",
       "      <td>12.675742</td>\n",
       "      <td>0.771764</td>\n",
       "    </tr>\n",
       "    <tr>\n",
       "      <th>Regresión polinómica grado 2</th>\n",
       "      <td>10.510839</td>\n",
       "      <td>0.843068</td>\n",
       "    </tr>\n",
       "    <tr>\n",
       "      <th>Regresión polinómica grado 3</th>\n",
       "      <td>10.594326</td>\n",
       "      <td>0.840565</td>\n",
       "    </tr>\n",
       "    <tr>\n",
       "      <th>SVR rbf</th>\n",
       "      <td>24.593804</td>\n",
       "      <td>0.140812</td>\n",
       "    </tr>\n",
       "    <tr>\n",
       "      <th>SVR lineal</th>\n",
       "      <td>15.433750</td>\n",
       "      <td>0.661639</td>\n",
       "    </tr>\n",
       "    <tr>\n",
       "      <th>SVR polinómica</th>\n",
       "      <td>18.685192</td>\n",
       "      <td>0.504057</td>\n",
       "    </tr>\n",
       "    <tr>\n",
       "      <th>SVR rbf GridSearchCV</th>\n",
       "      <td>11.409440</td>\n",
       "      <td>0.815088</td>\n",
       "    </tr>\n",
       "    <tr>\n",
       "      <th>SVR lineal GridSearchCV</th>\n",
       "      <td>12.817005</td>\n",
       "      <td>0.766649</td>\n",
       "    </tr>\n",
       "    <tr>\n",
       "      <th>SVR polinómica GridSearchCV</th>\n",
       "      <td>10.906359</td>\n",
       "      <td>0.831035</td>\n",
       "    </tr>\n",
       "  </tbody>\n",
       "</table>\n",
       "</div>"
      ],
      "text/plain": [
       "                                   RSME        R2\n",
       "Regresión lineal              12.675742  0.771764\n",
       "Regresión polinómica grado 2  10.510839  0.843068\n",
       "Regresión polinómica grado 3  10.594326  0.840565\n",
       "SVR rbf                       24.593804  0.140812\n",
       "SVR lineal                    15.433750  0.661639\n",
       "SVR polinómica                18.685192  0.504057\n",
       "SVR rbf GridSearchCV          11.409440  0.815088\n",
       "SVR lineal GridSearchCV       12.817005  0.766649\n",
       "SVR polinómica GridSearchCV   10.906359  0.831035"
      ]
     },
     "execution_count": 74,
     "metadata": {},
     "output_type": "execute_result"
    }
   ],
   "source": [
    "resultados = pd.DataFrame( {\"RSME\": [rmse_test_lr, rmse_test_poly2, rmse_test_poly3, rmse_svr_rbf, rmse_svr_linear, rmse_svr_poly,\n",
    "                                    rmse_rbf_grid, rmse_linear_grid, rmse_poly_grid], \n",
    "                            \"R2\": [r2_test_lr, r2_test_poly2, r2_test_poly3, r2_score_svr_rbf,r2_score_svr_linear,r2_score_svr_poly,\n",
    "                                  r2_score_rbf_grid, r2_linear_grid, r2_poly_grid]}, \n",
    "                          index = [\"Regresión lineal\", \"Regresión polinómica grado 2\", \"Regresión polinómica grado 3\", \"SVR rbf\",\n",
    "                                  \"SVR lineal\", \"SVR polinómica\", \"SVR rbf GridSearchCV\",\"SVR lineal GridSearchCV\", \"SVR polinómica GridSearchCV\" ])\n",
    "resultados"
   ]
  },
  {
   "cell_type": "markdown",
   "metadata": {},
   "source": [
    "### Resultados"
   ]
  },
  {
   "cell_type": "markdown",
   "metadata": {},
   "source": [
    "#### Según la tabla mostrada en la celda anterior el resultado óptimo se conseguiría con la Regresión polinómica de grado que presenta el RSME más bajo y el R2 más alto"
   ]
  },
  {
   "cell_type": "code",
   "execution_count": null,
   "metadata": {},
   "outputs": [],
   "source": []
  }
 ],
 "metadata": {
  "kernelspec": {
   "display_name": "Python 3 (ipykernel)",
   "language": "python",
   "name": "python3"
  },
  "language_info": {
   "codemirror_mode": {
    "name": "ipython",
    "version": 3
   },
   "file_extension": ".py",
   "mimetype": "text/x-python",
   "name": "python",
   "nbconvert_exporter": "python",
   "pygments_lexer": "ipython3",
   "version": "3.9.7"
  }
 },
 "nbformat": 4,
 "nbformat_minor": 4
}
